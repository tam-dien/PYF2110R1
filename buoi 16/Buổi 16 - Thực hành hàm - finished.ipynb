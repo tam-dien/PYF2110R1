{
 "cells": [
  {
   "cell_type": "markdown",
   "id": "028ffec3",
   "metadata": {},
   "source": [
    "# Thực hành hàm\n",
    "\n",
    "### Bài 1\n",
    "\n",
    "Viết hàm có dữ liệu đầu vào là 2 số a và b, số nào lớn hơn thì in bảng cửu chương của số đó"
   ]
  },
  {
   "cell_type": "code",
   "execution_count": 2,
   "id": "1974966b",
   "metadata": {},
   "outputs": [
    {
     "name": "stdout",
     "output_type": "stream",
     "text": [
      "nhập a: 12\n",
      "nhập b: 15\n",
      "15 X 1 = 15\n",
      "15 X 2 = 30\n",
      "15 X 3 = 45\n",
      "15 X 4 = 60\n",
      "15 X 5 = 75\n",
      "15 X 6 = 90\n",
      "15 X 7 = 105\n",
      "15 X 8 = 120\n",
      "15 X 9 = 135\n",
      "15 X 10 = 150\n"
     ]
    }
   ],
   "source": [
    "def cuuchuong(a,b):\n",
    "    if a > b:\n",
    "        for i in range(1, 11):\n",
    "            print(a, \"X\", i, \"=\", a * i)\n",
    "    else:\n",
    "        for i in range(1, 11):\n",
    "            print(b, \"X\", i, \"=\", b * i)\n",
    "\n",
    "a = int(input(\"nhập a: \"))\n",
    "b = int(input(\"nhập b: \"))\n",
    "cuuchuong(a,b)\n"
   ]
  },
  {
   "cell_type": "markdown",
   "id": "9de8ffaa",
   "metadata": {},
   "source": [
    "### Bài 2\n",
    "\n",
    "Viết hàm `xoachuoi` có dữ liệu đầu vào là 2 chuỗi a và b, hãy tìm trong chuỗi a có chuỗi b hay không, nếu có hãy xóa toán bộ chuỗi b trong a.\n",
    "\n",
    "Sau đó trả về chuỗi a mới\n",
    "\n",
    "Ví dụ:\n",
    "\n",
    "chuoi1 = \"xin chào các bạn, các bạn có khỏe không?\"\n",
    "\n",
    "chuoi2 = \"các bạn\"\n",
    "\n",
    "chuoi3 = xoachuoi(chuoi1,chuoi2)\n",
    "\n",
    "print(chuoi3)\n",
    "\n",
    "Kết quả in ra là:\n",
    "xin chào ,  có khỏe không"
   ]
  },
  {
   "cell_type": "code",
   "execution_count": null,
   "id": "05de1584",
   "metadata": {},
   "outputs": [],
   "source": [
    "a=input(\"Nhập vào chuỗi a:\")\n",
    "b=input(\"Nhập vào chuỗi b:\")\n",
    "def xoachuoi(a,b):\n",
    "    for i in range(a.count(b)+1):\n",
    "        if a.count(b)!=0:\n",
    "            c=a.find(b)\n",
    "            catchuoi=a[:c]\n",
    "            a=a[c+len(b):]\n",
    "            a=catchuoi+a\n",
    "        print(a)\n",
    "xoachuoi(a,b)\n"
   ]
  },
  {
   "cell_type": "code",
   "execution_count": 5,
   "id": "fd819309",
   "metadata": {},
   "outputs": [
    {
     "name": "stdout",
     "output_type": "stream",
     "text": [
      "nhập chuỗi a: xin chào các bạn, các bạn khỏe hông\n",
      "nhập chuỗi b: các bạn\n",
      "xin chào ,  khỏe hông\n"
     ]
    }
   ],
   "source": [
    "def xoachuoi(a, b):\n",
    "    c = a.find(b)\n",
    "    while c >= 0:\n",
    "        a = a[:c] + a[(c + len(b)):]\n",
    "        c = a.find(b)\n",
    "    return a\n",
    "\n",
    "a = input(\"nhập chuỗi a: \")\n",
    "b = input(\"nhập chuỗi b: \")\n",
    "\n",
    "chuoimoi = xoachuoi(a,b)\n",
    "print(chuoimoi)"
   ]
  },
  {
   "cell_type": "code",
   "execution_count": null,
   "id": "12a43634",
   "metadata": {},
   "outputs": [],
   "source": [
    "def xoachuoi(chuoi1,chuoi2):\n",
    "    solan = chuoi1.count(chuoi2)\n",
    "    for i in range(1,solan+1):\n",
    "        vitri = chuoi1.find(chuoi2)\n",
    "        dodai = len(chuoi2)\n",
    "        chuoi3 = chuoi1[:vitri-1]+chuoi1[vitri+dodai:]\n",
    "        chuoi1 = chuoi3\n",
    "    print(chuoi3)\n",
    "chuoi1 = input(\"Nhập chuỗi 1: \")\n",
    "chuoi2 = input(\"Nhập chuỗi 2: \")\n",
    "xoachuoi(chuoi1,chuoi2)"
   ]
  },
  {
   "cell_type": "code",
   "execution_count": 16,
   "id": "1f660c40",
   "metadata": {},
   "outputs": [
    {
     "data": {
      "text/plain": [
       "'xin chào ,  có khỏe không?'"
      ]
     },
     "execution_count": 16,
     "metadata": {},
     "output_type": "execute_result"
    }
   ],
   "source": [
    "def xoachuoi(chuoi1,chuoi2):\n",
    "    chuoi3 = \"\"\n",
    "    i = 0\n",
    "    while True:\n",
    "        if chuoi1[i] == chuoi2[0]:\n",
    "            catchuoi = chuoi1[i:i+len(chuoi2)]\n",
    "            if (catchuoi == chuoi2):\n",
    "                chuoi1 = chuoi1[:i] + chuoi1[i+len(chuoi2):]\n",
    "                i = i - 1\n",
    "        i = i + 1\n",
    "        if (i > len(chuoi1) - len(chuoi2)):\n",
    "            break\n",
    "    return chuoi1\n",
    "chuoi1 = \"xin chào các bạncác bạn, các bạn có khỏe không?\"\n",
    "chuoi2 = \"các bạn\"\n",
    "xoachuoi(chuoi1,chuoi2)"
   ]
  },
  {
   "cell_type": "code",
   "execution_count": 7,
   "id": "2b18b79a",
   "metadata": {},
   "outputs": [
    {
     "data": {
      "text/plain": [
       "'xin chào ,  có khỏe không?'"
      ]
     },
     "execution_count": 7,
     "metadata": {},
     "output_type": "execute_result"
    }
   ],
   "source": [
    "chuoi1 = \"xin chào các bạn, các bạn có khỏe không?\"\n",
    "chuoi2 = \"các bạn\"\n",
    "chuoi1.replace(chuoi2,\"\")"
   ]
  },
  {
   "cell_type": "markdown",
   "id": "d626394e",
   "metadata": {},
   "source": [
    "### Bài 3\n",
    "\n",
    "Viết hàm `kiemtramatkhau` với dữ liệu đầu vào là 1 chuỗi có công dụng như sau:\n",
    "\n",
    "Kiểm tra xem chuỗi đầu vào có phải là mật khẩu mạnh hay không, nếu có trả về True, nếu không trả về False\n",
    "\n",
    "Mật khẩu mạnh là mật khẩu phải có ít nhất 1 chữ hoa, 1 chữ thường, 1 số và 1 ký tự đặc biệt"
   ]
  },
  {
   "cell_type": "code",
   "execution_count": 19,
   "id": "875d88f5",
   "metadata": {},
   "outputs": [
    {
     "name": "stdout",
     "output_type": "stream",
     "text": [
      "False\n"
     ]
    }
   ],
   "source": [
    "def kiemtramatkhau(a):\n",
    "    kiemtrachuhoa = False\n",
    "    kiemtrachuthuong = False\n",
    "    kiemtraso = False\n",
    "    kiemtradacbiet = False\n",
    "    for i in a:\n",
    "        if i.isupper():\n",
    "            kiemtrachuhoa = True\n",
    "        elif i.islower():\n",
    "            kiemtrachuthuong = True\n",
    "        elif i.isnumeric():\n",
    "            kiemtraso = True\n",
    "        else:\n",
    "            kiemtradacbiet = True\n",
    "        if kiemtraso and kiemtrachuhoa and kiemtrachuthuong and kiemtradacbiet:\n",
    "            return True\n",
    "    return False\n",
    "\n",
    "print(kiemtramatkhau(\"abcd@23\"))"
   ]
  },
  {
   "cell_type": "code",
   "execution_count": null,
   "id": "31861f69",
   "metadata": {},
   "outputs": [],
   "source": [
    "def kiemtramatkhau(chuoi):\n",
    "    chuhoa =0\n",
    "    chuthuong = 0\n",
    "    so = 0\n",
    "    kitu = 0\n",
    "    for i in chuoi:\n",
    "        if i.isupper()== True:\n",
    "            chuhoa +=1\n",
    "        if i.islower() == True:\n",
    "            chuthuong += 1\n",
    "        if i.isdigit() == True:\n",
    "            so += 1\n",
    "        if i.isalnum() == False:\n",
    "            kitu += 1\n",
    "    if kitu == 0 or so ==0 or chuhoa == 0 or chuthuong ==0:\n",
    "        return False\n",
    "    else:\n",
    "        return True\n",
    "kiemtramatkhau('fdsgvA3nd;jdsf')\n"
   ]
  },
  {
   "cell_type": "markdown",
   "id": "1572568f",
   "metadata": {},
   "source": [
    "### Bài 4\n",
    "\n",
    "Viết hàm có 5 dữ liệu đầu vào là 5 số nguyên, tìm giá trị lớn nhì trong 5 số đó"
   ]
  },
  {
   "cell_type": "code",
   "execution_count": null,
   "id": "876707ae",
   "metadata": {},
   "outputs": [],
   "source": []
  },
  {
   "cell_type": "code",
   "execution_count": 21,
   "id": "071eaf66",
   "metadata": {},
   "outputs": [
    {
     "name": "stdout",
     "output_type": "stream",
     "text": [
      "19\n"
     ]
    }
   ],
   "source": [
    "def findthesecondmax(a1,a2,a3,a4,a5):\n",
    "    max1 = a1\n",
    "    for i in [a1,a2,a3,a4,a5]:\n",
    "        if max1 <= i:\n",
    "            max1 = i\n",
    "    max2 = a2\n",
    "    if max2 == max1:\n",
    "        max2 = a3\n",
    "    for j in [a1,a2,a3,a4,a5]:\n",
    "        if max2 < j and j < max1:\n",
    "            max2 = j\n",
    "    return max2\n",
    "\n",
    "print(findthesecondmax(12,15,20,18,19))"
   ]
  },
  {
   "cell_type": "code",
   "execution_count": 22,
   "id": "eb8863df",
   "metadata": {},
   "outputs": [
    {
     "name": "stdout",
     "output_type": "stream",
     "text": [
      "5\n"
     ]
    }
   ],
   "source": [
    "def solonnhi(a,b,c,d,e):\n",
    "    maxx=a\n",
    "    for i in (a,b,c,d,e):\n",
    "        if i>maxx:\n",
    "            maxx=i\n",
    "    maxxnhi=a\n",
    "    for i in (a,b,c,d,e):\n",
    "        if maxx>i>maxxnhi:\n",
    "            maxxnhi=i\n",
    "    return maxxnhi\n",
    "print(solonnhi(a,b,c,d,e))\n"
   ]
  },
  {
   "cell_type": "markdown",
   "id": "974d7da1",
   "metadata": {},
   "source": [
    "### Bài 5\n",
    "\n",
    "Nhập vào 2 cặp tọa độ tâm đường tròn và 2 bán kính R\n",
    "\n",
    "Hãy vẽ 2 hình tròn theo tọa độ và bán kính trên (tọa độ thứ nhất và bán kính thứ nhất là hình tròn thứ nhất, tọa độ thứ 2 với bán kính thứ 2 là hình tròn thứ hai)\n",
    "\n",
    "Viết hàm kiểm tra xem 2 hình tròn trên cắt nhau bao nhiêu điểm"
   ]
  },
  {
   "cell_type": "code",
   "execution_count": 2,
   "id": "f7722021",
   "metadata": {},
   "outputs": [],
   "source": [
    "import turtle\n",
    "\n",
    "t = turtle.Turtle()"
   ]
  },
  {
   "cell_type": "code",
   "execution_count": 11,
   "id": "d55674dc",
   "metadata": {},
   "outputs": [
    {
     "name": "stdout",
     "output_type": "stream",
     "text": [
      "0\n"
     ]
    }
   ],
   "source": [
    "x1, y1 = 0, 0\n",
    "r1 = 50\n",
    "x2, y2 = 10, 0\n",
    "r2 = 30\n",
    "\n",
    "t.clear()\n",
    "t.penup()\n",
    "\n",
    "def vehinhtron(x,y,r):\n",
    "    t.goto(x,y-r)\n",
    "    t.pendown()\n",
    "    t.circle(r)\n",
    "    t.penup()\n",
    "    \n",
    "khoangcach = ((x1 - x2)**2 + (y1 - y2)**2)**0.5\n",
    "def main():\n",
    "    if (khoangcach == r1 + r2):\n",
    "        return 1\n",
    "    if (khoangcach > r1 + r2):\n",
    "        return 0\n",
    "    if (khoangcach > abs(r1 - r2)):\n",
    "        return 2\n",
    "    if (khoangcach == 0 and r1 == r2):\n",
    "        return -1\n",
    "    if (khoangcach == abs(r1 -r2)):\n",
    "        return 1\n",
    "    return 0\n",
    "        \n",
    "    \n",
    "vehinhtron(x1,y1,r1)\n",
    "vehinhtron(x2,y2,r2)\n",
    "print(main())"
   ]
  },
  {
   "cell_type": "markdown",
   "id": "a2157de8",
   "metadata": {},
   "source": [
    "### Bài 6\n",
    "\n",
    "Nhập vào 2 tọa độ là 2 đỉnh của một hình chữ nhật\n",
    "\n",
    "Sau đó\n",
    "\n",
    "Nhập vào tọa độ tâm đường tròn và bán kính R\n",
    "\n",
    "Hãy vẽ hình hình chữ nhật và đường tròn trên\n",
    "\n",
    "Viết hàm kiểm tra xem đường tròn trên và hình chữ nhật cắt nhau tại bao nhiêu điểm"
   ]
  },
  {
   "cell_type": "code",
   "execution_count": 24,
   "id": "e0d7b1a2",
   "metadata": {},
   "outputs": [],
   "source": [
    "x1, y1 = -50,-30\n",
    "x2, y2 = 100,80\n",
    "xr, yr = 25,25\n",
    "r = 50\n",
    "t.clear()\n",
    "t.penup()\n",
    "vehinhtron(xr,yr,r)\n",
    "def vehinhchunhat(x1,y1,x2,y2):\n",
    "    t.goto(x1,y1)\n",
    "    t.pendown()\n",
    "    t.goto(x1,y2)\n",
    "    t.goto(x2,y2)\n",
    "    t.goto(x2,y1)\n",
    "    t.goto(x1,y1)\n",
    "    t.penup()\n",
    "vehinhchunhat(x1,y1,x2,y2)"
   ]
  },
  {
   "cell_type": "code",
   "execution_count": 25,
   "id": "44e24cd7",
   "metadata": {},
   "outputs": [
    {
     "name": "stdout",
     "output_type": "stream",
     "text": [
      "0\n"
     ]
    }
   ],
   "source": [
    "def xetdoanthangngang(x1,y,x2):\n",
    "    #x1 = 0\n",
    "    #x2 = 50\n",
    "    #y1 = 0\n",
    "    if yr+r>y>yr-r:\n",
    "        d = abs(yr - y)\n",
    "        khoangcachx = (r**2 - d**2)**0.5\n",
    "        #print(\"xr:\",xr)\n",
    "        xtrai = xr - khoangcachx\n",
    "        #print(\"xtrai:\",xtrai)\n",
    "        xphai = xr + khoangcachx\n",
    "        #print(\"xphai:\",xphai)\n",
    "        if x1 <= xtrai and x2 >= xphai:\n",
    "            return 2\n",
    "        if x1 <= xtrai and xtrai <= x2 < xphai:\n",
    "            return 1\n",
    "        if xphai >= x1 > xtrai and x2 >= xphai:\n",
    "            return 1\n",
    "        return 0\n",
    "    if y == yr + r or y == yr - r:\n",
    "        if x1 <= xr <= x2:\n",
    "            return 1\n",
    "    return 0\n",
    "\n",
    "def xetdoanthangdoc(y1,x,y2):\n",
    "    if xr+r>x>xr-r:\n",
    "        d = abs(xr - x)\n",
    "        khoangcachy = (r**2 - d**2)**0.5\n",
    "        ytrai = yr - khoangcachy\n",
    "        yphai = yr + khoangcachy\n",
    "        if y1 <= ytrai and y2 >= yphai:\n",
    "            return 2\n",
    "        if y1 <= ytrai and ytrai <= y2 < yphai :\n",
    "            return 1\n",
    "        if yphai >= y1 > ytrai and y2 >= yphai:\n",
    "            return 1\n",
    "        return 0\n",
    "    if x == xr + r or x == xr - r:\n",
    "        if y1 <= yr <= y2:\n",
    "            return 1\n",
    "    return 0\n",
    "\n",
    "tong = 0\n",
    "tong += xetdoanthangngang(x1,y1,x2)\n",
    "#print(tong)\n",
    "tong += xetdoanthangngang(x1,y2,x2)\n",
    "#print(tong)\n",
    "tong += xetdoanthangdoc(y1,x1,y2)\n",
    "#print(tong)\n",
    "tong += xetdoanthangdoc(y1,x2,y2)\n",
    "print(tong)"
   ]
  },
  {
   "cell_type": "markdown",
   "id": "d1491579",
   "metadata": {},
   "source": [
    "### Bài 7\n",
    "\n",
    "Viết hàm kiểm tra số nguyên tố\n",
    "\n",
    "Viết hàm kiểm tra số hoàn hảo\n",
    "\n",
    "Viết hàm kiểm tra số chính phương\n",
    "\n",
    "Viết hàm kiểm tra số Armstrong\n",
    "\n",
    "Nhập vào một chuỗi, hãy lọc và tìm ra những số ở trong chuỗi (2 chữ số liền nhau là một chuỗi)\n",
    "\n",
    "Ví dụ chuỗi: \"AB25SDc5DSjjh52\"\n",
    "\n",
    "Trong chuỗi này ta có 3 số: 25, 5 và 52\n",
    "\n",
    "Sau khi lọc số, dùng các hàm trên để kiểm tra và thực hiện như sau:\n",
    "\n",
    "Cho biến S\n",
    "\n",
    "- Nếu số đó là số nguyên tố, ta thực hiện S += số đó\n",
    "- Nếu số đó là số hoàn hảo, ta thực hiện S -= số đó\n",
    "- Nếu số đó là số chính phương, ta thực hiện S /= số đó\n",
    "- Nếu đó là số Armstrong ta cho S = 0\n",
    "\n",
    "Hãy tính và in S"
   ]
  },
  {
   "cell_type": "code",
   "execution_count": 30,
   "id": "0b699e33",
   "metadata": {},
   "outputs": [
    {
     "name": "stdout",
     "output_type": "stream",
     "text": [
      "25 25\n",
      "25 : số chính phương\n",
      "5 5\n",
      "5 : số nguyên tố\n",
      "52 52\n",
      "5.0\n"
     ]
    }
   ],
   "source": [
    "def songuyento(a):\n",
    "    if a < 2:\n",
    "        return False\n",
    "    for i in range(2,a):\n",
    "        if a % i == 0:\n",
    "            return False\n",
    "    return True\n",
    "def sohoanhao(a):\n",
    "    tong = 0\n",
    "    for i in range(1,a):\n",
    "        if a % i == 0:\n",
    "            tong += i\n",
    "    if tong == a:\n",
    "        return True\n",
    "    return False\n",
    "def sochinhphuong(a):\n",
    "    can = a**0.5\n",
    "    if can == round(can):\n",
    "        return True\n",
    "    return False\n",
    "def armstrong(a):\n",
    "    dem = 0\n",
    "    aa = a\n",
    "    while aa > 0:\n",
    "        dem += 1\n",
    "        aa //= 10\n",
    "    sum = 0\n",
    "    aa = a\n",
    "    for i in range(dem):\n",
    "        chuso = aa%10\n",
    "        aa //= 10\n",
    "        sum += chuso**dem\n",
    "    if sum == a:\n",
    "        return True\n",
    "    return False\n",
    "\n",
    "chuoi = \"AB25SDc5DSjjh52\"\n",
    "chuoi += \" \"\n",
    "x = \"\"\n",
    "S = 0\n",
    "for i in chuoi:\n",
    "    if i.isnumeric():\n",
    "        x += i\n",
    "    else:\n",
    "        if x != \"\":\n",
    "            a = int(x)\n",
    "            print(a,x)\n",
    "            x = \"\"\n",
    "            if songuyento(a):\n",
    "                S += a\n",
    "                print(a,\": số nguyên tố\")\n",
    "            elif sohoanhao(a):\n",
    "                S -= a\n",
    "                print(a,\": số hoàn hảo\")\n",
    "            elif sochinhphuong(a):\n",
    "                S /= a\n",
    "                print(a,\": số chính phương\")\n",
    "            elif armstrong(a):\n",
    "                S = 0\n",
    "                print(a,\": số armstrong\")\n",
    "print(S)"
   ]
  },
  {
   "cell_type": "code",
   "execution_count": null,
   "id": "033a26ee",
   "metadata": {},
   "outputs": [],
   "source": []
  }
 ],
 "metadata": {
  "kernelspec": {
   "display_name": "Python 3 (ipykernel)",
   "language": "python",
   "name": "python3"
  },
  "language_info": {
   "codemirror_mode": {
    "name": "ipython",
    "version": 3
   },
   "file_extension": ".py",
   "mimetype": "text/x-python",
   "name": "python",
   "nbconvert_exporter": "python",
   "pygments_lexer": "ipython3",
   "version": "3.10.0"
  }
 },
 "nbformat": 4,
 "nbformat_minor": 5
}
