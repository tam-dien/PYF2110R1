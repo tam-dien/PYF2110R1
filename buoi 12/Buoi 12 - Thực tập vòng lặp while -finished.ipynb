{
 "cells": [
  {
   "cell_type": "markdown",
   "id": "1f7be993",
   "metadata": {},
   "source": [
    "# Thực tập vòng lặp While\n",
    "\n",
    "### Bài 1\n",
    "\n",
    "Nhập vào số a, sử dụng lệnh while (không sử dụng break và for) để xác định xem số đó có phải là số nguyên tố hay không"
   ]
  },
  {
   "cell_type": "code",
   "execution_count": null,
   "id": "8cb73965",
   "metadata": {},
   "outputs": [],
   "source": [
    "a = int(input('Enter a number:'))\n",
    "dem = 0\n",
    "i = 1\n",
    "while i <= a:\n",
    "    if a%i == 0:\n",
    "        dem += 1\n",
    "    i += 1\n",
    "if dem > 2:\n",
    "    print('Khong la so nguyen to')\n",
    "else:\n",
    "    print('La so nguyen to')"
   ]
  },
  {
   "cell_type": "markdown",
   "id": "9f2357ca",
   "metadata": {},
   "source": [
    "### Bài 2\n",
    "\n",
    "Hãy sử dụng lệnh while lập trình cho bài đoán số ở buổi thứ 10"
   ]
  },
  {
   "cell_type": "code",
   "execution_count": null,
   "id": "db79cb9d",
   "metadata": {},
   "outputs": [],
   "source": [
    "a = int(input(\"Nhập số:\"))\n",
    "sochan = 0\n",
    "sole = 0\n",
    "chuoi = str(a)\n",
    "vitri = 0\n",
    "while vitri < len(chuoi):\n",
    "    if int(chuoi[vitri])%2 == 0:\n",
    "        sochan += 1\n",
    "    else:\n",
    "        sole += 1\n",
    "    vitri += 1\n",
    "print(\"Có\",sochan,\"số chẵn\")\n",
    "print(\"Có\",sole,\"số lẻ\")\n"
   ]
  },
  {
   "cell_type": "markdown",
   "id": "58f5b789",
   "metadata": {},
   "source": [
    "### Bài 3\n",
    "\n",
    "Nhập vào số a, hãy đếm a có bao nhiêu chữ số chẵn, bao nhiêu cữ số lẻ\n",
    "\n",
    "#### Cách 1 (dùng chuỗi):"
   ]
  },
  {
   "cell_type": "code",
   "execution_count": null,
   "id": "e7f9da21",
   "metadata": {},
   "outputs": [],
   "source": []
  },
  {
   "cell_type": "markdown",
   "id": "9a3d9703",
   "metadata": {},
   "source": [
    "#### Cách 2 (không dùng chuỗi):"
   ]
  },
  {
   "cell_type": "code",
   "execution_count": null,
   "id": "d4e474c8",
   "metadata": {},
   "outputs": [],
   "source": [
    "a = int(input(\"Nhập vào số a:\"))\n",
    "demchan=0\n",
    "demle=0\n",
    "while a!=0:\n",
    "    tachso = a % 10\n",
    "    a = a//10\n",
    "    if tachso%2==1:\n",
    "         demle= demle + 1\n",
    "    else:\n",
    "        demchan = demchan + 1\n",
    "print(\"tổng số lẻ là:\",demle,\"tổng số chẵn là:\",demchan)\n"
   ]
  },
  {
   "cell_type": "markdown",
   "id": "69539ece",
   "metadata": {},
   "source": [
    "### Bài 4\n",
    "\n",
    "Nhập vào số a, hãy tính tổng các chữ số nguyên tố của a"
   ]
  },
  {
   "cell_type": "code",
   "execution_count": null,
   "id": "f001bd9a",
   "metadata": {},
   "outputs": [],
   "source": [
    "a = int(input(\"nhap so a:\"))\n",
    "tong = 0\n",
    "while a!=0:\n",
    "    tachso = a%10\n",
    "    a = a//10\n",
    "    if tachso == 2 or tachso == 3 or tachso == 5 or tachso == 7:\n",
    "        tong=tong + tachso\n",
    "print(tong)"
   ]
  },
  {
   "cell_type": "markdown",
   "id": "0a5075a4",
   "metadata": {},
   "source": [
    "### Bài 5\n",
    "\n",
    "Số armstrong là số có tổng lập phương các chữ số bằng chính nó\n",
    "\n",
    "Ví dụ\n",
    "\n",
    "Số 371 là một số armstrong vì:\n",
    "\n",
    "371 = 3^3 + 7^3 + 1^3\n",
    "\n",
    "Nhập vào số a, kiểm tra xem a có phải là số armstrong không"
   ]
  },
  {
   "cell_type": "code",
   "execution_count": null,
   "id": "b9ed54a5",
   "metadata": {},
   "outputs": [],
   "source": [
    "a = int(input(\"Nhập a:\"))\n",
    "while (a<0):\n",
    "    a = int(input(\"Vui lòng nhập lại\")) \n",
    "c = a\n",
    "sochuso = 0\n",
    "while(a >= 1):\n",
    "    a = a/10\n",
    "    sochuso = sochuso + 1\n",
    "a = c\n",
    "tong = 0\n",
    "while a > 0:\n",
    "    tachso = a % 10\n",
    "    tong = tong + tachso**sochuso\n",
    "    a = a // 10\n",
    "a = c\n",
    "if tong == a:\n",
    "    print(a,\"là số armstrong\")\n",
    "else:\n",
    "    print(a,\"không là số armstrong\")\n",
    "    "
   ]
  },
  {
   "cell_type": "markdown",
   "id": "f8a584d3",
   "metadata": {},
   "source": [
    "### Bài 6\n",
    "\n",
    "Dãy số fibonacci là dãy số được định nghĩa như sau: 1, 1, 2, 3, 5, 8, 13,... với số kế tiếp sẽ bằng tổng hai số trước đó\n",
    "\n",
    "Nhập vào A, hãy tìm số trong dãy số fibonacci lớn nhất nhưng không vượt quá A"
   ]
  },
  {
   "cell_type": "code",
   "execution_count": null,
   "id": "3ad4d85b",
   "metadata": {},
   "outputs": [],
   "source": []
  },
  {
   "cell_type": "markdown",
   "id": "9fa794f2",
   "metadata": {},
   "source": [
    "### Bài 7\n",
    "\n",
    "Nhập vào A, tìm n nhỏ nhất sao cho\n",
    "\n",
    "1 + 1/2 + 1/3 + 1/4 + ... + 1/n > A"
   ]
  },
  {
   "cell_type": "code",
   "execution_count": null,
   "id": "246ec002",
   "metadata": {},
   "outputs": [],
   "source": []
  },
  {
   "cell_type": "markdown",
   "id": "c5fd4d8a",
   "metadata": {},
   "source": [
    "### Bài 8\n",
    "\n",
    "Nhập vào a và b (b có một chữ số, nhập sai yêu cầu nhập lại), hãy tìm vị trí đầu tiên bên trái của b trong a, nếu không tìm thấy thì in kết quả là 0 (ví trí đầu bắt đầu từ 1)"
   ]
  },
  {
   "cell_type": "code",
   "execution_count": null,
   "id": "9edf35ac",
   "metadata": {},
   "outputs": [],
   "source": []
  }
 ],
 "metadata": {
  "kernelspec": {
   "display_name": "Python 3 (ipykernel)",
   "language": "python",
   "name": "python3"
  },
  "language_info": {
   "codemirror_mode": {
    "name": "ipython",
    "version": 3
   },
   "file_extension": ".py",
   "mimetype": "text/x-python",
   "name": "python",
   "nbconvert_exporter": "python",
   "pygments_lexer": "ipython3",
   "version": "3.10.0"
  }
 },
 "nbformat": 4,
 "nbformat_minor": 5
}
