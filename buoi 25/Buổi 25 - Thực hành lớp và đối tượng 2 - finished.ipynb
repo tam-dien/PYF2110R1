{
 "cells": [
  {
   "cell_type": "markdown",
   "id": "b08a97f2",
   "metadata": {},
   "source": [
    "# Thực hành lớp và đối tượng 2"
   ]
  },
  {
   "cell_type": "markdown",
   "id": "cb5eadba",
   "metadata": {},
   "source": [
    "### Bài 1"
   ]
  },
  {
   "cell_type": "markdown",
   "id": "912cf868",
   "metadata": {},
   "source": [
    "Theo các nghiên cứu, đoạn đường đẹp nhất là đoạn đường mà ở đó độ cao trung bình của các tòa nhà là K.\n",
    "\n",
    "Có N tòa nhà, tòa nhà thứ i tính từ đầu đường có độ cao là Ai.\n",
    "\n",
    "Bạn hãy tìm một đoạn dài nhất các tòa nhà sao cho chúng có độ cao trung bình là K.\n",
    "\n",
    "<b>Dữ liệu đầu vào:</b>\n",
    "\n",
    "Biến K chứa K\n",
    "\n",
    "Biến L là list chứa các Ai\n",
    "\n",
    "<b>In ra:</b> vị trí và độ dài của đoạn list thỏa mãn yêu cầu (trong trường hợp có nhiều đoạn list, in ra đoạn có độ dài lớn nhất)\n",
    "\n",
    "<b>Ví dụ:</b>\n",
    "\n",
    "K = 5\n",
    "\n",
    "L = [2,4,5,6]\n",
    "\n",
    "<b>In ra:</b> Vị trí đoạn list thỏa màn yêu cầu là 1 và có độ dài là 3 (tức là đoạn [4,5,6])"
   ]
  },
  {
   "cell_type": "markdown",
   "id": "52723be5",
   "metadata": {},
   "source": [
    "<b>Ví dụ:</b>\n",
    "\n",
    "K = 12\n",
    "\n",
    "L = [2,4,5,6,8,10,12,14,16,4,5,14,7,10,17]\n",
    "\n",
    "<b>In ra:</b> Vị trí đoạn list thỏa màn yêu cầu là 4 và có độ dài là 5 (tức là đoạn [6,8,10,12,14])"
   ]
  },
  {
   "cell_type": "markdown",
   "id": "3e954d21",
   "metadata": {},
   "source": [
    "<b> Khai báo: </b>"
   ]
  },
  {
   "cell_type": "code",
   "execution_count": 17,
   "id": "4603b6fd",
   "metadata": {},
   "outputs": [
    {
     "name": "stdout",
     "output_type": "stream",
     "text": [
      "Vị trí đoạn list thỏa màn yêu cầu là 1 và có độ dài là 3\n"
     ]
    }
   ],
   "source": [
    "K = 5\n",
    "\n",
    "L = [2,4,4,7] ### Trong đoạn [4,4,7] không có số 5 nhưng vẫn có giá trị trung bình là 5\n",
    "def tinhtrungbinh(l):\n",
    "    s=0\n",
    "    for i in l:\n",
    "        s+=i\n",
    "    tb = s/len(l)\n",
    "    return tb\n",
    "\n",
    "def tachlist(l,dodai):\n",
    "    ## Yêu cầu in ra toàn bộ list có độ dài là dodai ở trong list l\n",
    "    ## Ví dụ l = [2,4,5,6] ## 4 phần tử trừ đi độ dài là 3 kết quả là 1\n",
    "    ## dodai = 3\n",
    "    ## in ra [2,4,5] và [4,5,6]\n",
    "    for i in range(len(L) - dodai + 1):\n",
    "        listcat = L[i:i+dodai]\n",
    "        if tinhtrungbinh(listcat) == K:\n",
    "            return i\n",
    "    return None\n",
    "\n",
    "##tachlist(L,3)\n",
    "        \n",
    "def main():\n",
    "    for i in range(len(L),0,-1):\n",
    "        vitri = tachlist(L,i)\n",
    "        if vitri != None:\n",
    "            print(\"Vị trí đoạn list thỏa màn yêu cầu là\",vitri,\"và có độ dài là\",i)\n",
    "            return\n",
    "main()"
   ]
  },
  {
   "cell_type": "code",
   "execution_count": 15,
   "id": "0e7768fd",
   "metadata": {},
   "outputs": [
    {
     "name": "stdout",
     "output_type": "stream",
     "text": [
      "[2, 4, 5]\n",
      "[6]\n"
     ]
    }
   ],
   "source": [
    "def tachlist(L,dodai):\n",
    "    for i in range(0,len(L),dodai): # i sẽ là 0 và i sẽ là 3\n",
    "        listtach = L[i: dodai + i] ##i phải là 0 và 1\n",
    "        print(listtach) \n",
    "        \n",
    "K = 5\n",
    "\n",
    "L = [2,4,5,6]\n",
    "\n",
    "tachlist(L,3)"
   ]
  },
  {
   "cell_type": "code",
   "execution_count": null,
   "id": "c40cefc7",
   "metadata": {},
   "outputs": [],
   "source": [
    "## nếu K = 5, mình cần tìm đoạn dài nhất"
   ]
  },
  {
   "cell_type": "markdown",
   "id": "7abdba36",
   "metadata": {},
   "source": [
    "<b> Code: </b>"
   ]
  },
  {
   "cell_type": "code",
   "execution_count": 4,
   "id": "d12b38b9",
   "metadata": {},
   "outputs": [
    {
     "name": "stdout",
     "output_type": "stream",
     "text": [
      "Đoạn list tại 0 với chiều dài 5 có tb là: 4.6\n",
      "Đoạn list tại 0 với chiều dài 4 có tb là: 5.0\n",
      "(0, 4)\n"
     ]
    }
   ],
   "source": []
  },
  {
   "cell_type": "code",
   "execution_count": 16,
   "id": "fd6cc201",
   "metadata": {},
   "outputs": [
    {
     "ename": "IndexError",
     "evalue": "list index out of range",
     "output_type": "error",
     "traceback": [
      "\u001b[1;31m---------------------------------------------------------------------------\u001b[0m",
      "\u001b[1;31mIndexError\u001b[0m                                Traceback (most recent call last)",
      "\u001b[1;32m~\\AppData\\Local\\Temp/ipykernel_5428/3442470673.py\u001b[0m in \u001b[0;36m<module>\u001b[1;34m\u001b[0m\n\u001b[0;32m     23\u001b[0m             \u001b[0mL\u001b[0m\u001b[1;33m=\u001b[0m\u001b[1;33m[\u001b[0m\u001b[1;33m]\u001b[0m\u001b[1;33m\u001b[0m\u001b[1;33m\u001b[0m\u001b[0m\n\u001b[0;32m     24\u001b[0m     \u001b[1;32mreturn\u001b[0m \u001b[0mD\u001b[0m\u001b[1;33m\u001b[0m\u001b[1;33m\u001b[0m\u001b[0m\n\u001b[1;32m---> 25\u001b[1;33m \u001b[0mprint\u001b[0m\u001b[1;33m(\u001b[0m\u001b[0mmain\u001b[0m\u001b[1;33m(\u001b[0m\u001b[0mL\u001b[0m\u001b[1;33m,\u001b[0m\u001b[0mK\u001b[0m\u001b[1;33m)\u001b[0m\u001b[1;33m)\u001b[0m\u001b[1;33m\u001b[0m\u001b[1;33m\u001b[0m\u001b[0m\n\u001b[0m",
      "\u001b[1;32m~\\AppData\\Local\\Temp/ipykernel_5428/3442470673.py\u001b[0m in \u001b[0;36mmain\u001b[1;34m(a, b)\u001b[0m\n\u001b[0;32m     14\u001b[0m             \u001b[0mn\u001b[0m\u001b[1;33m=\u001b[0m\u001b[1;36m0\u001b[0m\u001b[1;33m\u001b[0m\u001b[1;33m\u001b[0m\u001b[0m\n\u001b[0;32m     15\u001b[0m             \u001b[1;32mwhile\u001b[0m \u001b[0mdem\u001b[0m\u001b[1;33m<\u001b[0m\u001b[0mi\u001b[0m\u001b[1;33m:\u001b[0m\u001b[1;33m\u001b[0m\u001b[1;33m\u001b[0m\u001b[0m\n\u001b[1;32m---> 16\u001b[1;33m                 \u001b[0mL\u001b[0m\u001b[1;33m.\u001b[0m\u001b[0mappend\u001b[0m\u001b[1;33m(\u001b[0m\u001b[0ma\u001b[0m\u001b[1;33m[\u001b[0m\u001b[0mj\u001b[0m\u001b[1;33m+\u001b[0m\u001b[0mn\u001b[0m\u001b[1;33m]\u001b[0m\u001b[1;33m)\u001b[0m\u001b[1;33m\u001b[0m\u001b[1;33m\u001b[0m\u001b[0m\n\u001b[0m\u001b[0;32m     17\u001b[0m                 \u001b[0mn\u001b[0m\u001b[1;33m=\u001b[0m\u001b[0mn\u001b[0m\u001b[1;33m+\u001b[0m\u001b[1;36m1\u001b[0m\u001b[1;33m\u001b[0m\u001b[1;33m\u001b[0m\u001b[0m\n\u001b[0;32m     18\u001b[0m                 \u001b[0mdem\u001b[0m\u001b[1;33m+=\u001b[0m\u001b[1;36m1\u001b[0m\u001b[1;33m\u001b[0m\u001b[1;33m\u001b[0m\u001b[0m\n",
      "\u001b[1;31mIndexError\u001b[0m: list index out of range"
     ]
    }
   ],
   "source": [
    "K = 5\n",
    "L = [2,4,5,6]\n",
    "\n",
    "def main(a,b):\n",
    "    c=0\n",
    "    dem=0\n",
    "    sodem=0\n",
    "    L=[]\n",
    "    D={}\n",
    "    tong=0\n",
    "    for i in range(1,len(a)+1):\n",
    "        for j in range(0,int(len(a)/i)+1): ## nếu i = 4 ~~> range(0,2) bị sai ## j sẽ chạy tới 1, vị trị tại 1 không thể lấy 4 phần tử\n",
    "            dem=0 ## phải ra 1 phép tính có logic, không làm theo cảm tính\n",
    "            n=0\n",
    "            while dem<i:\n",
    "                L.append(a[j+n])\n",
    "                n=n+1\n",
    "                dem+=1\n",
    "            for i in L:\n",
    "                tong= (tong+i)\n",
    "            if (tong/len(L))==b:\n",
    "                D[len(L)]= L\n",
    "            L=[]\n",
    "    return D\n",
    "print(main(L,K))\n"
   ]
  },
  {
   "cell_type": "markdown",
   "id": "724bdb5b",
   "metadata": {},
   "source": [
    "### Bài 2"
   ]
  },
  {
   "cell_type": "markdown",
   "id": "82340c62",
   "metadata": {},
   "source": [
    "Trong một bản nhạc thường có những đoạn nhạc (mỗi đoạn nhạc là một dãy có nhiều hơn một nốt nhạc đi liền nhau) được sử dụng lại nhờ thủ pháp biến tấu đồng điệu.\n",
    "\n",
    "Thủ pháp này đơn giản là lặp lại một đoạn nhạc nào đó trước đó bằng cách giữ nguyên, hoặc tăng, giảm tất cả các nốt cùng một quãng cao nào đó.\n",
    "\n",
    "Chẳng hạn, đoạn với dãy cao độ: 2, 1, 5, 4, 7, 6 là biến tấu đồng điệu của đoạn: 5, 4, 8, 7, 10, 9.\n",
    "\n",
    "Vì các nốt của đoạn đều bị giảm đi một quãng 3. Độ dài mỗi đoạn nói trên đều là 6 (gồm 6 nốt).\n",
    "\n",
    "Yêu cầu: cho trước bản nhạc gồm N nốt nhạc, hãy tìm độ dài lớn nhất L có thể có của các đoạn biến tấu đồng điệu. Nếu không có đoạn biến tấu đồng điệu nào thì L = 0.\n",
    "\n",
    "<b>Dữ liệu đầu vào:</b>\n",
    "\n",
    "Biến L chứa các cao độ của nốt nhạc (độ dài của L lớn hơn 3 và bé hơn 5000)\n",
    "\n",
    "<b>In ra:</b> Số nguyên L\n",
    "\n",
    "<b>Ví dụ:</b>\n",
    "\n",
    "L = [67,6,7,5,4,1,2,3,4,5,23,4,5,3,5,6,12,56,57,58,59,13,14,13,14]\n",
    "\n",
    "<b>In ra:</b> 4"
   ]
  },
  {
   "cell_type": "markdown",
   "id": "9a8a52f5",
   "metadata": {},
   "source": [
    "<b> Khai báo: </b>"
   ]
  },
  {
   "cell_type": "code",
   "execution_count": 3,
   "id": "c821d2c5",
   "metadata": {},
   "outputs": [
    {
     "name": "stdout",
     "output_type": "stream",
     "text": [
      "4\n"
     ]
    }
   ],
   "source": [
    "L = [67,6,7,5,4,1,2,3,4,5,23,4,5,3,5,6,12,56,57,58,59,13,14,13,14]\n",
    "## Mỗi lần lấy ra 2 đoạn và so sánh 2 đoạn có biến tấu đồng điệu hay không\n",
    "def checkdongdieu(L1,L2):\n",
    "    a = L1[0]-L2[0]\n",
    "    for i in range(1,len(L1)):\n",
    "        if a != L1[i]-L2[i]:\n",
    "            return False\n",
    "    return True\n",
    "\n",
    "chieudaitoida = int(len(L)/2)\n",
    "def main():\n",
    "    for dodai in range(chieudaitoida,1,-1):\n",
    "        for vitrilistgoc in range(0,len(L) - 2*dodai + 1):\n",
    "            listgoc = L[vitrilistgoc:vitrilistgoc + dodai]\n",
    "            for vitrilistdongdieu in range(vitrilistgoc + dodai,len(L) - dodai + 1):\n",
    "                listdongdieu = L[vitrilistdongdieu:vitrilistdongdieu + dodai]\n",
    "                if checkdongdieu(listgoc,listdongdieu):\n",
    "                    return dodai\n",
    "    return 0       \n",
    "print(main())"
   ]
  },
  {
   "cell_type": "code",
   "execution_count": 4,
   "id": "9b0c9d47",
   "metadata": {},
   "outputs": [
    {
     "name": "stdout",
     "output_type": "stream",
     "text": [
      "[61, -1, 2, 1, 3, -1, -1, -1, -1, -18, 19, -1, 2, -2, -1, -6, -44, -1, -1, -1, 46, -1, 1, -1]\n",
      "Độ dài lớn nhất L có thể có của các đoạn biến tấu đồng điệu là : 4\n",
      "None\n"
     ]
    }
   ],
   "source": [
    "L=[67,6,7,5,4,1,2,3,4,5,23,4,5,3,5,6,12,56,57,58,59,13,14,13,14]\n",
    "def bientaudongdieu(L):\n",
    "    a=[]\n",
    "    b=[]\n",
    "    D={}\n",
    "    dem=0\n",
    "    dodailonnhat = None\n",
    "    k=None\n",
    "    if len(L)<=3 or len(L)>=5000:\n",
    "        return \"Không đếm được\"\n",
    "    for i in range(len(L)-1):# tìm hiệu để xem có bao nhiêu cái trùng nhau hoăc chùng nhau cứ 2 số sẽ tạo ra 1 hiệu\n",
    "        hieu=L[i]-L[i+1]\n",
    "        a.append(hieu)\n",
    "    print(a)\n",
    "    for i in range(len(a)):\n",
    "        for j in range(len(a)):\n",
    "            if j!=i and a[i]==a[j] :\n",
    "                k=True\n",
    "    if k==None:\n",
    "        return 0\n",
    "    for i in range(len(a)):#so sánh các hiệu nào bằng nhau \n",
    "        for j in range(len(a)):\n",
    "            m=i\n",
    "            n=j\n",
    "            if i!=j and a[m]==a[n] :\n",
    "                while (m<len(a) and n<len(a) and a[m]==a[n]):# em ko hiểu sao khi đổi điều kiện 3 lên đầu nó bị lỗi nhé?\n",
    "                    dem=dem+1                      #em đoán là nó thấy đk 1 mà đã ko đúng nên ko xét đk 3 để nó ko bị lỗi\n",
    "                    m=m+1\n",
    "                    n=n+1\n",
    "                if dodailonnhat == None or dodailonnhat < dem:\n",
    "                    dodailonnhat = dem\n",
    "    print(\"Độ dài lớn nhất L có thể có của các đoạn biến tấu đồng điệu là :\",dodailonnhat) #+1 vì phải tính hiệu mà\n",
    "\n",
    "print(bientaudongdieu(L))"
   ]
  },
  {
   "cell_type": "markdown",
   "id": "a0fb033a",
   "metadata": {},
   "source": [
    "<b> Code: </b>"
   ]
  },
  {
   "cell_type": "code",
   "execution_count": null,
   "id": "51b08037",
   "metadata": {},
   "outputs": [],
   "source": []
  }
 ],
 "metadata": {
  "kernelspec": {
   "display_name": "Python 3 (ipykernel)",
   "language": "python",
   "name": "python3"
  },
  "language_info": {
   "codemirror_mode": {
    "name": "ipython",
    "version": 3
   },
   "file_extension": ".py",
   "mimetype": "text/x-python",
   "name": "python",
   "nbconvert_exporter": "python",
   "pygments_lexer": "ipython3",
   "version": "3.10.1"
  }
 },
 "nbformat": 4,
 "nbformat_minor": 5
}
