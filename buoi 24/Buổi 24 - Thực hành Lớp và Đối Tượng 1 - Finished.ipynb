{
 "cells": [
  {
   "cell_type": "markdown",
   "id": "ec00548e",
   "metadata": {},
   "source": [
    "# Thực hành Lớp và Đối Tượng 1"
   ]
  },
  {
   "cell_type": "markdown",
   "id": "e9a5b1b0",
   "metadata": {},
   "source": [
    "### Bài 1"
   ]
  },
  {
   "cell_type": "markdown",
   "id": "b89649bc",
   "metadata": {},
   "source": [
    "Viết một lớp point để lưu trữ một điểm trong hệ trục tọa độ Oxyz\n",
    "\n",
    "Class này có:\n",
    "\n",
    "<b> Các biến: </b>\n",
    "- <b>x</b>: mang tọa độ x của diểm\n",
    "- <b>y</b>: mang tọa độ y của diểm\n",
    "- <b>z</b>: mang tọa độ z của diểm\n",
    "\n",
    "<b> Các hàm: </b>\n",
    "- <b>khoangcachgoc:</b> hàm này trả về khoảng cách từ điểm đến điểm gốc(0,0,0)\n",
    "- <b>khoangcach(tham số đầu vào là 1 đối tượng có lớp point):</b> hàm này trả về khoảng cách từ điểm đến điểm được đưa vào\n",
    "- <b>diemdoixung:</b> hàm này trả về điểm đối của điểm qua điểm gốc(0,0,0)\n",
    "- <b>diemtrungbinh(tham số đầu vào là 1 đối tượng có lớp point):</b> hàm này trả về điểm nằm chính giữa điểm và điểm được đưa vào\n",
    "- <b>thanghang(tham số đầu vào là 2 đối tượng có lớp point):</b> hàm này trả về kết quả kiểm tra 3 điểm có thẳng hằng hay không\n",
    "- <b>vuonggoc((tham số đầu vào là 3 đối tượng có lớp point):</b> hàm trả trả về kết quả kiểm tra 4 điểm có tạo thành 2 đường thẳng vuông góc được hay không"
   ]
  },
  {
   "cell_type": "code",
   "execution_count": 1,
   "id": "ca30ea7d",
   "metadata": {},
   "outputs": [
    {
     "name": "stdout",
     "output_type": "stream",
     "text": [
      "Tọa độ điểm là: (0.0,0.0,0.0)\n"
     ]
    }
   ],
   "source": [
    "class point:\n",
    "    def __init__(self,x,y,z):\n",
    "        self.x = x\n",
    "        self.y = y\n",
    "        self.z = z\n",
    "    def khoangcachgoc(self):\n",
    "        khoangcach = (self.x**2 + self.y**2 + self.z**2)**0.5\n",
    "        return khoangcach\n",
    "    def khoangcach(self,a):\n",
    "        khoangcach = ((self.x - a.x)**2 + (self.y - a.y)**2 + (self.z - a.z)**2)**0.5\n",
    "        return khoangcach\n",
    "    def diemdoixung(self):\n",
    "        x = -self.x\n",
    "        y = -self.y\n",
    "        z = -self.z\n",
    "        return point(x,y,z)\n",
    "    def diemtrungbinh(self,a):\n",
    "        x = (self.x + a.x)/2\n",
    "        y = (self.y + a.y)/2\n",
    "        z = (self.z + a.z)/2\n",
    "        return point(x,y,z)\n",
    "    def inra(self):\n",
    "        print(\"Tọa độ điểm là: (\",self.x,\",\",self.y,\",\",self.z,\")\",sep = \"\")\n",
    "    def thanghang(self,a,b):\n",
    "        if (self.x-a.x)/(self.x-b.x)==(self.y-a.y)/(self.y-b.y) == (self.z-a.z)/(self.z-b.z):\n",
    "            return True\n",
    "        return False\n",
    "    def vuonggoccuthe(d1,d2,d3,d4):\n",
    "        vector1 = [d1.x - d2.x,d1.y - d2.y,d1.z - d2.z]\n",
    "        vector2 = [d3.x - d4.x,d3.y - d4.y,d3.z - d4.z]\n",
    "        if vector1[0]*vector2[0] + vector1[1]*vector2[1] + vector1[2]*vector2[2] == 0:\n",
    "            return True\n",
    "        return False\n",
    "    def vuonggoc(self,a,b,c):\n",
    "        if self.vuonggoccuthe(self,a,b,c):\n",
    "            return True\n",
    "        if self.vuonggoccuthe(self,b,a,c):\n",
    "            return True\n",
    "        if self.vuonggoccuthe(self,c,a,b):\n",
    "            return True\n",
    "        return False\n",
    "point1 = point(0,5,0)\n",
    "point2 = point(4,6,8)\n",
    "point3 = point1.diemdoixung()\n",
    "point4 = point1.diemtrungbinh(point3)\n",
    "point4.inra()"
   ]
  },
  {
   "cell_type": "code",
   "execution_count": null,
   "id": "1974dee8",
   "metadata": {},
   "outputs": [],
   "source": []
  },
  {
   "cell_type": "markdown",
   "id": "59c44a5f",
   "metadata": {},
   "source": [
    "### Bài 2"
   ]
  },
  {
   "cell_type": "markdown",
   "id": "b6f8706c",
   "metadata": {},
   "source": [
    "Viết một lớp plane để lưu trữ một mặt phẳng trong hệ trục tọa độ Oxyz (có dạng ax + by + cz + d = 0)\n",
    "\n",
    "Class này có:\n",
    "\n",
    "<b> Các biến: </b>\n",
    "- <b>a</b>: hệ số a của phương trình\n",
    "- <b>b</b>: hệ số b của phương trình\n",
    "- <b>c</b>: hệ số c của phương trình\n",
    "- <b>d</b>: hệ số d của phương trình\n",
    "\n",
    "<b> Các hàm: </b>\n",
    "- <b>khoangcachgoc:</b> hàm này trả về khoảng cách từ mặt phẳng đến điểm gốc(0,0,0)\n",
    "- <b>khoangcach(tham số đầu vào là 1 đối tượng có lớp point):</b> hàm này trả về khoảng cách từ mặt phẳng đến điểm được đưa vào\n",
    "- <b>tinhchat(tham số đầu vào là 1 đối tượng có lớp plane):</b> hàm này kiểm tra xem 2 mặt phẳng cắt nhau hay song song hay trùng nhau (trả về 0: cắt nhau, 1: song song, 2: trùng nhau)\n",
    "- <b>thuocmatphang(tham số đầu vào là 1 đối tượng có lớp point):</b> hàm này trả về kết quả điểm có thuộc mặt phẳng hay không\n",
    "- <b>matphangtrungbinh(tham số đầu vào là 1 đối tượng có lớp point):</b> hàm này trả về mặt phẳng nằm chính giữa mặt phẳng và điểm được đưa vào\n",
    "- <b>songsong(tham số đầu vào là 2 đối tượng có lớp point):</b> hàm này trả về kết quả kiểm tra 2 điểm có có tạo đường thẳng song song với mặt phẳng hay không\n",
    "- <b>vuonggoc((tham số đầu vào là 2 đối tượng có lớp point):</b> hàm này trả về kết quả kiểm tra 2 điểm có có tạo đường thẳng vuông góc với mặt phẳng hay không"
   ]
  },
  {
   "cell_type": "code",
   "execution_count": 7,
   "id": "ce32e9aa",
   "metadata": {},
   "outputs": [
    {
     "name": "stdout",
     "output_type": "stream",
     "text": [
      "2x + 3y + 4z + -20.0 = 0\n",
      "2x + 3y + 4z + -20.0 = 0\n"
     ]
    }
   ],
   "source": [
    "class plane:\n",
    "    def __init__(self,a,b,c,d):\n",
    "        self.a = a\n",
    "        self.b = b\n",
    "        self.c = c\n",
    "        self.d = d\n",
    "    def khoangcachgoc(self):\n",
    "        khoangcach = abs(d)/((a**2 + b**2 + c**2)**0.5)\n",
    "        return khoangcach\n",
    "    def khoangcach(self,a):\n",
    "        khoangcach=abs((self.a*a.x+self.b*y.b+self.c*a.z+self.d))/((self.a**2+self.b**2+self.c**2)**0.5)\n",
    "        return round(khoangcach,3)\n",
    "    def tinhchat(self,D):\n",
    "        tysoa = self.a / D.a\n",
    "        tysob = self.b / D.b\n",
    "        tysoc = self.c / D.c\n",
    "        tysod = self.d / D.d\n",
    "        if (tysoa == tysob == tysoc == tysod):\n",
    "            return 2\n",
    "        elif (tysoa == tysob == tysoc):\n",
    "            return 1\n",
    "        return 0\n",
    "    def thuocmatphang(self,p):\n",
    "        if self.a*p.x + self.b*p.y + self.c*p.z + self.d == 0:\n",
    "            return True\n",
    "        return False\n",
    "    def matphangtrungbinh1(self,a):\n",
    "        khoangcach=abs((self.a*a.x+self.b*a.y+self.c*a.z+self.d))/((self.a**2+self.b**2+self.c**2)**0.5)\n",
    "        tong=self.a*a.x+self.b*a.y+self.c*a.z\n",
    "        b=(tong+self.d-2*tong)/2\n",
    "        c=(tong+self.d+2*tong)/(-2)\n",
    "        if khoangcach*0.5==(abs((tong+b))/((self.a**2+self.b**2+self.c**2)**0.5)):\n",
    "            return plane(self.a,self.b,self.c,b)\n",
    "        else:\n",
    "            return plane(self.a,self.b,self.c,c)\n",
    "    def matphangtrungbinh2(self,p):\n",
    "        dmpss = -self.a*p.x - self.b*p.y - self.c*p.z\n",
    "        dcantim = (dmpss + self.d)/2\n",
    "        return plane(self.a,self.b,self.c,dcantim)\n",
    "    def inra(self):\n",
    "        print(self.a,\"x + \",self.b,\"y + \",self.c,\"z + \",self.d,\" = 0\",sep = \"\")\n",
    "    def songsong(self,p1,p2):\n",
    "        vtphaptuyen = [self.a,self.b,self.c]\n",
    "        vt2diem = [p1.x - p2.x,p1.y - p2.y,p1.z - p2.z]\n",
    "        S = 0\n",
    "        for i in range(len(vt2diem)):\n",
    "            S += vtphaptuyen[i]*vt2diem[i]\n",
    "        if (S == 0):\n",
    "            if self.a*p1.x + self.b*p1.y + self.c*p1.z + self.d != 0:\n",
    "                return True\n",
    "        return False\n",
    "    def songsong(self,p1,p2):\n",
    "        vtphaptuyen = [self.a,self.b,self.c]\n",
    "        vt2diem = [p1.x - p2.x,p1.y - p2.y,p1.z - p2.z]\n",
    "        S = 0\n",
    "        for i in range(len(vt2diem)):\n",
    "            S += vtphaptuyen[i]*vt2diem[i]\n",
    "        if (S == 1 or S == -1):\n",
    "            return True\n",
    "        return False\n",
    "        \n",
    "### 3x + 4y + 5z + 7 = 0\n",
    "### 6x + 8y + 10z + 10 = 0 ~~> chia 2 cho hai vế thì ra mp đầu\n",
    "plane1 = plane(2,3,4,5)\n",
    "point1 = point(3,5,6)\n",
    "plane2 = plane1.matphangtrungbinh1(point1)\n",
    "plane3 = plane1.matphangtrungbinh2(point1)\n",
    "plane2.inra()\n",
    "plane3.inra()"
   ]
  }
 ],
 "metadata": {
  "kernelspec": {
   "display_name": "Python 3 (ipykernel)",
   "language": "python",
   "name": "python3"
  },
  "language_info": {
   "codemirror_mode": {
    "name": "ipython",
    "version": 3
   },
   "file_extension": ".py",
   "mimetype": "text/x-python",
   "name": "python",
   "nbconvert_exporter": "python",
   "pygments_lexer": "ipython3",
   "version": "3.10.1"
  }
 },
 "nbformat": 4,
 "nbformat_minor": 5
}
