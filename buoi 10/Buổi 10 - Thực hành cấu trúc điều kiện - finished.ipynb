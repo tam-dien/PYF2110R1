{
 "cells": [
  {
   "cell_type": "markdown",
   "id": "dcdb816e",
   "metadata": {},
   "source": [
    "# Thực hành cấu trúc điều khiển\n",
    "\n",
    "### Bài 1\n",
    "\n",
    "Cho phương trình bậc 2: ax^2 + bx + c = 0\n",
    "\n",
    "Nhập a, b, c\n",
    "\n",
    "Giải và biện luận phương trình trên"
   ]
  },
  {
   "cell_type": "code",
   "execution_count": 6,
   "id": "b5a5c325",
   "metadata": {},
   "outputs": [
    {
     "name": "stdout",
     "output_type": "stream",
     "text": [
      "Nhập vào a:1\n",
      "Nhập vào b:-2\n",
      "Nhập vào c:1\n",
      "Đây là phương trình 1 nghiệm kép: 1.0\n"
     ]
    }
   ],
   "source": [
    "a = float(input(\"Nhập vào a:\"))\n",
    "b = float(input(\"Nhập vào b:\"))\n",
    "c = float(input(\"Nhập vào c:\"))\n",
    "delta = b**2 - 4*a*c\n",
    "if delta < 0:\n",
    "    print(\"Đây là phương trình vô nghiệm\")\n",
    "elif delta == 0:\n",
    "    print(\"Đây là phương trình 1 nghiệm kép:\",(-b)/(2*a))\n",
    "else:\n",
    "    candelta = delta**(1/2)\n",
    "    x1 = (-b-candelta)/(2*a)\n",
    "    x2 = (-b+candelta)/(2*a)\n",
    "    print(\"Đây là phương trình có 2 nghiệm phân biệt:\",x1,\"và\",x2)\n",
    "    "
   ]
  },
  {
   "cell_type": "markdown",
   "id": "6f7d329d",
   "metadata": {},
   "source": [
    "### Bài 2\n",
    "\n",
    "Hãy nhập vào một số\n",
    "\n",
    "Xác định coi đó có phải là số nguyên tố hay không"
   ]
  },
  {
   "cell_type": "code",
   "execution_count": null,
   "id": "049c85f5",
   "metadata": {},
   "outputs": [],
   "source": [
    "a = int(input(\"Nhập vào số a:\"))\n",
    "dem = 0\n",
    "if a >= 2:\n",
    "    b = 1 #b sẽ tăng từ 1 tới a\n",
    "    for i in range(a):\n",
    "        if a % b == 0:\n",
    "            dem = dem + 1\n",
    "        b = b + 1 \n",
    "    if dem != 2:\n",
    "        print(\"Đây không là số nguyên tố\")\n",
    "    else:\n",
    "        print(\"Đây là số nguyên tố\")\n",
    "else:\n",
    "    print(\"Đây không là số nguyên tố\")"
   ]
  },
  {
   "cell_type": "markdown",
   "id": "75f7717b",
   "metadata": {},
   "source": [
    "### Bài 3\n",
    "\n",
    "Hãy nhập vào số n\n",
    "\n",
    "Hãy đếm số chữ số 0 tận cùng của n giai thừa"
   ]
  },
  {
   "cell_type": "code",
   "execution_count": null,
   "id": "d91de4ad",
   "metadata": {},
   "outputs": [],
   "source": []
  },
  {
   "cell_type": "markdown",
   "id": "29cd6c81",
   "metadata": {},
   "source": [
    "### Bài 4\n",
    "\n",
    "In ra tất cả các số chia hết cho 3 nhỏ hơn 100"
   ]
  },
  {
   "cell_type": "code",
   "execution_count": 9,
   "id": "0b848981",
   "metadata": {},
   "outputs": [
    {
     "name": "stdout",
     "output_type": "stream",
     "text": [
      "3\n",
      "6\n",
      "9\n",
      "12\n",
      "15\n",
      "18\n",
      "21\n",
      "24\n",
      "27\n",
      "30\n",
      "33\n",
      "36\n",
      "39\n",
      "42\n",
      "45\n",
      "48\n",
      "51\n",
      "54\n",
      "57\n",
      "60\n",
      "63\n",
      "66\n",
      "69\n",
      "72\n",
      "75\n",
      "78\n",
      "81\n",
      "84\n",
      "87\n",
      "90\n",
      "93\n",
      "96\n",
      "99\n"
     ]
    }
   ],
   "source": [
    "a=0\n",
    "for i in range(33):\n",
    "    a+=3\n",
    "    print(a)"
   ]
  },
  {
   "cell_type": "markdown",
   "id": "04dbf99b",
   "metadata": {},
   "source": [
    "### Bài 5\n",
    "\n",
    "In ra tất cả các số lẻ nhưng không chia hết cho 3 nhỏ hơn 100"
   ]
  },
  {
   "cell_type": "code",
   "execution_count": 12,
   "id": "769eb439",
   "metadata": {},
   "outputs": [
    {
     "name": "stdout",
     "output_type": "stream",
     "text": [
      "1\n",
      "5\n",
      "7\n",
      "11\n",
      "13\n",
      "17\n",
      "19\n",
      "23\n",
      "25\n",
      "29\n",
      "31\n",
      "35\n",
      "37\n",
      "41\n",
      "43\n",
      "47\n",
      "49\n",
      "53\n",
      "55\n",
      "59\n",
      "61\n",
      "65\n",
      "67\n",
      "71\n",
      "73\n",
      "77\n",
      "79\n",
      "83\n",
      "85\n",
      "89\n",
      "91\n",
      "95\n",
      "97\n"
     ]
    }
   ],
   "source": [
    "a = 0\n",
    "for i in range(100):\n",
    "    if (a % 2 != 0) and (a % 3 != 0):\n",
    "        print(a)\n",
    "    a = a + 1"
   ]
  },
  {
   "cell_type": "markdown",
   "id": "26dd47fb",
   "metadata": {},
   "source": [
    "### Bài 5\n",
    "\n",
    "Tại một cửa hàng nọ có menu như sau:\n",
    "\n",
    "1. Gà rán giá 35k\n",
    "2. Hamburger giá 50k\n",
    "3. Pesi giá 10k\n",
    "\n",
    "Nhập số lượng món hàng cần mua\n",
    "\n",
    "Tính và in ra tổng giá tiền (hiển thị có dấu chấm mỗi 3 chữ số để người dùng để quan sát)\n",
    "\n",
    "Nếu giá trị đơn hàng trên 2 triệu, giảm 10% cho khách, trên 4 triệu, giảm 15%\n",
    "\n",
    "Tính và in ra tổng giá tiền được giảm (hiển thị có dấu chấm mỗi 3 chữ số để người dùng để quan sát)\n",
    "\n",
    "Tính và in ra tổng giá tiền khách cần trả (hiển thị có dấu chấm mỗi 3 chữ số để người dùng để quan sát)\n",
    "\n",
    "In ra dòng chữ \"Cảm ơn quý khách đã mua hàng\""
   ]
  },
  {
   "cell_type": "code",
   "execution_count": 23,
   "id": "8509df1e",
   "metadata": {},
   "outputs": [
    {
     "name": "stdout",
     "output_type": "stream",
     "text": [
      "Số xuất gà rán:10\n",
      "Số xuất Hamburger:5\n",
      "Số lon Pepsi:10\n",
      "700.000\n"
     ]
    },
    {
     "data": {
      "text/plain": [
       "'\\n#GIAM GIA\\nif 20000000 < money < 4000000:\\n    money = int(money*0.9) #nếu không int thì định dạng là số thực 8075000.0\\nif money > 4000000:\\n    money = int(money*0.85)\\n\\n# Tổng tiền sau khi đã giảm giá:\\nchuoi = str(money)[::-1]\\ns = \"\"\\nfor i in range(len(chuoi1)):\\n    s=s+chuoi[i]\\n    if (i+1)%3 == 0:\\n        s = s + \",\"\\nprint(\"Tổng tiền sau khi đã giảm giá:\",s[::-1])\\nprint(\"Cảm ơn quý khách\")\\n'"
      ]
     },
     "execution_count": 23,
     "metadata": {},
     "output_type": "execute_result"
    }
   ],
   "source": [
    "ga = int(input(\"Số xuất gà rán:\"))\n",
    "ham = int(input(\"Số xuất Hamburger:\"))\n",
    "pesi = int(input(\"Số lon Pepsi:\"))\n",
    "money = ga*35000 + ham*50000 + pesi*10000\n",
    "\n",
    "# VIET DAU PHAY\n",
    "\n",
    "chuoi = str(money)\n",
    "dem = 0\n",
    "vitri = len(chuoi) - 1\n",
    "for i in range(len(chuoi)):\n",
    "    dem = dem + 1\n",
    "    if (dem == 3) and vitri != 0 :\n",
    "        nuatruoc = chuoi[ :vitri]\n",
    "        nuasau = chuoi[vitri: ]\n",
    "        chuoi = nuatruoc + \".\" + nuasau\n",
    "        dem = 0\n",
    "    vitri = vitri - 1\n",
    "print(chuoi)\n",
    "'''\n",
    "#GIAM GIA\n",
    "if 20000000 < money < 4000000:\n",
    "    money = int(money*0.9) #nếu không int thì định dạng là số thực 8075000.0\n",
    "if money > 4000000:\n",
    "    money = int(money*0.85)\n",
    "\n",
    "# Tổng tiền sau khi đã giảm giá:\n",
    "chuoi = str(money)[::-1]\n",
    "s = \"\"\n",
    "for i in range(len(chuoi1)):\n",
    "    s=s+chuoi[i]\n",
    "    if (i+1)%3 == 0:\n",
    "        s = s + \",\"\n",
    "print(\"Tổng tiền sau khi đã giảm giá:\",s[::-1])\n",
    "print(\"Cảm ơn quý khách\")\n",
    "'''"
   ]
  },
  {
   "cell_type": "markdown",
   "id": "ab10a1ce",
   "metadata": {},
   "source": [
    "### Bài 6\n",
    "\n",
    "Nhập vào chiều cao (cm) và cân nặng (kg), tính số BMI và xét rồi xin kết quả theo dữ liệu sau:\n",
    "\n",
    "- BMI < 16: Gầy cấp độ III\n",
    "- 16 <= BMI < 17:  Gầy cấp độ II\n",
    "- 17<= BMI < 18.5: Gầy cấp độ I\n",
    "- 18.5 <= BMI < 25: Bình thường\n",
    "- 25 <= BMI < 30: Thừa cân\n",
    "- 30 <= BMI < 35 : Béo phì cấp độ I\n",
    "- 35 <= BMI < 40: Béo phì cấp độ II\n",
    "- BMI > 40: Béo phì cấp độ III"
   ]
  },
  {
   "cell_type": "code",
   "execution_count": null,
   "id": "1058f441",
   "metadata": {},
   "outputs": [],
   "source": []
  },
  {
   "cell_type": "markdown",
   "id": "f7620342",
   "metadata": {},
   "source": [
    "### Bài 7\n",
    "\n",
    "Nhập ngày, tháng, năm. Hãy tính và in ra màn hình kể từ đầu năm đến ngày vừa nhập là bao nhiêu ngày."
   ]
  },
  {
   "cell_type": "code",
   "execution_count": 27,
   "id": "4c57f0a5",
   "metadata": {},
   "outputs": [
    {
     "name": "stdout",
     "output_type": "stream",
     "text": [
      "Nhập ngày: 14\n",
      "Nhập tháng: 6\n",
      "Nhập năm: 2000\n",
      "31\n",
      "60\n",
      "91\n",
      "121\n",
      "152\n",
      "166\n"
     ]
    }
   ],
   "source": [
    "ngay = int(input('Nhập ngày: '))\n",
    "thang = int(input('Nhập tháng: '))\n",
    "nam = int(input('Nhập năm: '))\n",
    "tong = 0\n",
    "if thang < 8:\n",
    "    chaythang = 1\n",
    "    for i in range(thang - 1):\n",
    "        if chaythang == 2:\n",
    "            if nam % 4 == 0:\n",
    "                tong += 29\n",
    "            else:\n",
    "                tong += 28\n",
    "        else:\n",
    "            if chaythang % 2 == 0:\n",
    "                tong += 30\n",
    "            else:\n",
    "                tong += 31\n",
    "        chaythang = chaythang + 1\n",
    "        print(tong)\n",
    "    tong = tong + ngay\n",
    "else:\n",
    "    chaythang = 1\n",
    "    for i in range(7):\n",
    "        if chaythang == 2:\n",
    "            if nam % 4 == 0:\n",
    "                tong += 29\n",
    "            else:\n",
    "                tong += 28\n",
    "        else:\n",
    "            if chaythang % 2 == 0:\n",
    "                tong += 30\n",
    "            else:\n",
    "                tong += 31\n",
    "        chaythang = chaythang + 1\n",
    "    chaythang = 8\n",
    "    for i in range(thang - 7 - 1):\n",
    "        if thang % 2 == 0:\n",
    "            tong += 31\n",
    "        else:\n",
    "            tong += 30\n",
    "    tong = tong + ngay\n",
    "print(tong)"
   ]
  },
  {
   "cell_type": "markdown",
   "id": "7b66d8d5",
   "metadata": {},
   "source": [
    "### Bài 8\n",
    "\n",
    "Dựa vào bài vẽ đồ thị trong buổi học 6\n",
    "\n",
    "Hãy nhập vào 3 dữ liệu a, b, c bất kỳ (số thực)\n",
    "\n",
    "Tính toán và vẽ đồ thị với chiều cao của cột cao nhất là 300 đơn vị"
   ]
  },
  {
   "cell_type": "code",
   "execution_count": null,
   "id": "e950e96c",
   "metadata": {},
   "outputs": [],
   "source": []
  }
 ],
 "metadata": {
  "kernelspec": {
   "display_name": "Python 3 (ipykernel)",
   "language": "python",
   "name": "python3"
  },
  "language_info": {
   "codemirror_mode": {
    "name": "ipython",
    "version": 3
   },
   "file_extension": ".py",
   "mimetype": "text/x-python",
   "name": "python",
   "nbconvert_exporter": "python",
   "pygments_lexer": "ipython3",
   "version": "3.10.0"
  }
 },
 "nbformat": 4,
 "nbformat_minor": 5
}
