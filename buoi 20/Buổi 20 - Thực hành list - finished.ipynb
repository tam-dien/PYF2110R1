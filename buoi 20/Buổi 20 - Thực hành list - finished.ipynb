{
 "cells": [
  {
   "cell_type": "markdown",
   "id": "011431b9",
   "metadata": {},
   "source": [
    "# Thực hành List\n",
    "\n",
    "##### Chú ý: list một dãy số người ta còn gọi là một mảng\n",
    "\n",
    "### Bài 1"
   ]
  },
  {
   "cell_type": "markdown",
   "id": "61a90628",
   "metadata": {},
   "source": [
    "Viết hàm với đầu vào là một mảng, hãy tính và trả về giá trị trung bình của mảng"
   ]
  },
  {
   "cell_type": "code",
   "execution_count": 1,
   "id": "bcc197d5",
   "metadata": {},
   "outputs": [
    {
     "name": "stdout",
     "output_type": "stream",
     "text": [
      "35.666666666666664\n"
     ]
    }
   ],
   "source": [
    "L=[-3, -1, 11, 23, 34, 54, 101, 103, -1]\n",
    "\n",
    "def giatritrungbinh(L):\n",
    "    S=0\n",
    "    for i in L:\n",
    "        S+=i \n",
    "    return S/len(L)\n",
    "print(giatritrungbinh(L))"
   ]
  },
  {
   "cell_type": "markdown",
   "id": "30d26c1b",
   "metadata": {},
   "source": [
    "### Bài 2"
   ]
  },
  {
   "cell_type": "markdown",
   "id": "674ef26c",
   "metadata": {},
   "source": [
    "Viết hàm với đầu vào là một mảng, hãy tìm và trả về giá trị âm lớn nhất trong mảng, nếu không tìm được, trả về 1"
   ]
  },
  {
   "cell_type": "code",
   "execution_count": 2,
   "id": "1a9cb505",
   "metadata": {},
   "outputs": [
    {
     "data": {
      "text/plain": [
       "-2"
      ]
     },
     "execution_count": 2,
     "metadata": {},
     "output_type": "execute_result"
    }
   ],
   "source": [
    "M=[3,8,-6,-4,-2]\n",
    "def giatriamlonnhat(L):\n",
    "    C=M.copy()\n",
    "    for i in C:\n",
    "        if i >= 0:\n",
    "            M.remove(i)\n",
    "    return max(M)\n",
    "giatriamlonnhat(M)"
   ]
  },
  {
   "cell_type": "code",
   "execution_count": 4,
   "id": "7e6e0cc1",
   "metadata": {},
   "outputs": [
    {
     "ename": "IndexError",
     "evalue": "list index out of range",
     "output_type": "error",
     "traceback": [
      "\u001b[1;31m---------------------------------------------------------------------------\u001b[0m",
      "\u001b[1;31mIndexError\u001b[0m                                Traceback (most recent call last)",
      "\u001b[1;32m~\\AppData\\Local\\Temp/ipykernel_8524/3542034189.py\u001b[0m in \u001b[0;36m<module>\u001b[1;34m\u001b[0m\n\u001b[0;32m      6\u001b[0m             \u001b[0mminn\u001b[0m \u001b[1;33m=\u001b[0m \u001b[0mi\u001b[0m\u001b[1;33m\u001b[0m\u001b[1;33m\u001b[0m\u001b[0m\n\u001b[0;32m      7\u001b[0m     \u001b[1;32mreturn\u001b[0m \u001b[0mminn\u001b[0m\u001b[1;33m\u001b[0m\u001b[1;33m\u001b[0m\u001b[0m\n\u001b[1;32m----> 8\u001b[1;33m \u001b[0mprint\u001b[0m\u001b[1;33m(\u001b[0m\u001b[0mtimgiatriam\u001b[0m\u001b[1;33m(\u001b[0m\u001b[0ma\u001b[0m\u001b[1;33m)\u001b[0m\u001b[1;33m)\u001b[0m\u001b[1;33m\u001b[0m\u001b[1;33m\u001b[0m\u001b[0m\n\u001b[0m",
      "\u001b[1;32m~\\AppData\\Local\\Temp/ipykernel_8524/3542034189.py\u001b[0m in \u001b[0;36mtimgiatriam\u001b[1;34m(a)\u001b[0m\n\u001b[0;32m      3\u001b[0m     \u001b[0mminn\u001b[0m \u001b[1;33m=\u001b[0m \u001b[1;36m0\u001b[0m\u001b[1;33m\u001b[0m\u001b[1;33m\u001b[0m\u001b[0m\n\u001b[0;32m      4\u001b[0m     \u001b[1;32mfor\u001b[0m \u001b[0mi\u001b[0m \u001b[1;32min\u001b[0m \u001b[0ma\u001b[0m\u001b[1;33m:\u001b[0m\u001b[1;33m\u001b[0m\u001b[1;33m\u001b[0m\u001b[0m\n\u001b[1;32m----> 5\u001b[1;33m         \u001b[1;32mif\u001b[0m \u001b[0mi\u001b[0m \u001b[1;33m<\u001b[0m \u001b[0ma\u001b[0m\u001b[1;33m[\u001b[0m\u001b[0mi\u001b[0m\u001b[1;33m]\u001b[0m\u001b[1;33m:\u001b[0m\u001b[1;33m\u001b[0m\u001b[1;33m\u001b[0m\u001b[0m\n\u001b[0m\u001b[0;32m      6\u001b[0m             \u001b[0mminn\u001b[0m \u001b[1;33m=\u001b[0m \u001b[0mi\u001b[0m\u001b[1;33m\u001b[0m\u001b[1;33m\u001b[0m\u001b[0m\n\u001b[0;32m      7\u001b[0m     \u001b[1;32mreturn\u001b[0m \u001b[0mminn\u001b[0m\u001b[1;33m\u001b[0m\u001b[1;33m\u001b[0m\u001b[0m\n",
      "\u001b[1;31mIndexError\u001b[0m: list index out of range"
     ]
    }
   ],
   "source": [
    "a = [3,8,-6,-4,-2]\n",
    "def timgiatriam (a):\n",
    "    minn = 0\n",
    "    for i in a:\n",
    "        if i < a[i]:\n",
    "            minn = i\n",
    "    return minn\n",
    "print(timgiatriam(a))\n"
   ]
  },
  {
   "cell_type": "code",
   "execution_count": 16,
   "id": "189637f7",
   "metadata": {},
   "outputs": [
    {
     "name": "stdout",
     "output_type": "stream",
     "text": [
      "-4\n"
     ]
    }
   ],
   "source": [
    "M = [3,8,6,-4,2,5]\n",
    "def timgiatriamlonnhat(M):\n",
    "    maxx = None ## Khi ta gọi min ~~> Duyệt list\n",
    "    for i in M:\n",
    "        if i<0:\n",
    "            if maxx == None or i>maxx:\n",
    "                maxx = i \n",
    "    if maxx == None:\n",
    "        return 1\n",
    "    return maxx \n",
    "print(timgiatriamlonnhat(M))\n"
   ]
  },
  {
   "cell_type": "code",
   "execution_count": null,
   "id": "df972182",
   "metadata": {},
   "outputs": [],
   "source": [
    "L=[-3, -5, 11, 23, 34, 54, 101, 103]   \n",
    "def timgiatrimax(L):\n",
    "    m=[]\n",
    "    for i in L:\n",
    "        if i<0:\n",
    "            m.append(i)\n",
    "    maxx=m[0]\n",
    "    for x in m:\n",
    "        if maxx<x:\n",
    "            maxx = x\n",
    "    return x\n",
    "print(\"giá trị âm lớn nhất\",timgiatrimax(L))"
   ]
  },
  {
   "cell_type": "code",
   "execution_count": 18,
   "id": "06877003",
   "metadata": {},
   "outputs": [
    {
     "name": "stdout",
     "output_type": "stream",
     "text": [
      "-3\n"
     ]
    }
   ],
   "source": [
    "a = [1,-3,-4,5,7,-6,8,6,9]\n",
    "def giatriamlonnhat(a):\n",
    "    lisam = []\n",
    "    \n",
    "    for i in a:\n",
    "        if i < 0:\n",
    "            lisam.append(i)\n",
    "    maxx = None\n",
    "    for i in lisam:\n",
    "        if maxx == None or maxx < i:\n",
    "            maxx = i\n",
    "    return maxx\n",
    "print(giatriamlonnhat(a))"
   ]
  },
  {
   "cell_type": "code",
   "execution_count": 11,
   "id": "d5a92a58",
   "metadata": {},
   "outputs": [
    {
     "name": "stdout",
     "output_type": "stream",
     "text": [
      "-2\n"
     ]
    }
   ],
   "source": [
    "M = [3,8,-6,-4,-2,-5]\n",
    "def giatriam(a):\n",
    "    minn=0\n",
    "    for i in a:\n",
    "        if minn>i:\n",
    "            minn=i\n",
    "    for i in a:\n",
    "        if i<0 and i>minn:\n",
    "            minn=i\n",
    "    return minn\n",
    "print(giatriam(M))\n"
   ]
  },
  {
   "cell_type": "markdown",
   "id": "95cfaa74",
   "metadata": {},
   "source": [
    "### Bài 3"
   ]
  },
  {
   "cell_type": "markdown",
   "id": "5361a4b8",
   "metadata": {},
   "source": [
    "Viết hàm với giá trị đầu vào là một mảng, hãy sắp xếp và trả về mảng có độ lớn tăng dần"
   ]
  },
  {
   "cell_type": "code",
   "execution_count": 2,
   "id": "91ad4d5d",
   "metadata": {},
   "outputs": [
    {
     "data": {
      "text/plain": [
       "[-24, -22, -11, -11, -6, 1, 2, 3, 13]"
      ]
     },
     "execution_count": 2,
     "metadata": {},
     "output_type": "execute_result"
    }
   ],
   "source": [
    "## Có hàm để săp xếp\n",
    "## Không dùng hàm với bài này...\n",
    "## Bài này dùng để tạo búa, nên không được xài búa\n",
    "l=[1,-11,2,-6,13,3,-24,-22,-11]\n",
    "def tangdan(l):\n",
    "    minn=l[0]\n",
    "    maxx=l[0]\n",
    "    a=[]\n",
    "    for i in l:\n",
    "        if i<minn:\n",
    "            minn=i\n",
    "    #print(minn)    \n",
    "    for i in l:\n",
    "        if i>maxx:\n",
    "            maxx=i\n",
    "    #print(maxx)\n",
    "    for i in range(minn,maxx+1):\n",
    "        for j in l:\n",
    "            if i==j:\n",
    "                a.append(i)\n",
    "    return a\n",
    "        \n",
    "tangdan(l)"
   ]
  },
  {
   "cell_type": "code",
   "execution_count": null,
   "id": "724e9819",
   "metadata": {},
   "outputs": [],
   "source": [
    "### Tìm min ~~> viết def tìm min\n",
    "### Append min vào List mới\n",
    "### Xóa cái min trong list cũ đi\n",
    "### Nhược điểm là tốn thêm một list\n",
    "L=[5,4,6,3,7,8,-9]\n",
    "def Sap_xep_tang_dan(L):\n",
    "    Listmoi=[]\n",
    "    while L!=[]:\n",
    "        phantu=min(L)\n",
    "        L.remove(phantu)\n",
    "        Listmoi.append(phantu)\n",
    "    return Listmoi\n",
    "print(Sap_xep_tang_dan(L))"
   ]
  },
  {
   "cell_type": "code",
   "execution_count": null,
   "id": "6b86b123",
   "metadata": {},
   "outputs": [],
   "source": [
    "### Mình sắp xếp bằng cách đưa số nhỏ nhất lên vị trí \n",
    "### Đưa số nhỏ nhì lên vị trí 2\n",
    "### Đưa số nhỏ 3 lên vị trí 3...\n",
    "L = [2,1,5,6,8,-4,0,-10]\n",
    "\n",
    "def sorting(L):\n",
    "    for i in range(0,len(L)-1):\n",
    "        for j in range(i+1,len(L)):\n",
    "            if L[i]>L[j]:\n",
    "                tt = L[i]\n",
    "                L[i]= L[j]\n",
    "                L[j] = tt\n",
    "    return L\n",
    "print(sorting(L))"
   ]
  },
  {
   "cell_type": "code",
   "execution_count": 6,
   "id": "6f9ab5cd",
   "metadata": {},
   "outputs": [
    {
     "name": "stdout",
     "output_type": "stream",
     "text": [
      "[-10, -4, 0, 1, 2, 5, 6, 8]\n"
     ]
    }
   ],
   "source": [
    "L = [2,1,5,6,8,-4,0,-10]\n",
    "L.sort()\n",
    "print(L)"
   ]
  },
  {
   "cell_type": "markdown",
   "id": "025cc0cb",
   "metadata": {},
   "source": [
    "### Bài 4"
   ]
  },
  {
   "cell_type": "markdown",
   "id": "dbf885a9",
   "metadata": {},
   "source": [
    "Viết hàm với giá trị đầu vào là một mảng, tìm x sao cho đoạn [-x,x] chứa tất cả các giá trị có trong mảng"
   ]
  },
  {
   "cell_type": "code",
   "execution_count": 7,
   "id": "84606ea2",
   "metadata": {},
   "outputs": [
    {
     "name": "stdout",
     "output_type": "stream",
     "text": [
      "(-500, 500)\n"
     ]
    }
   ],
   "source": [
    "L = [1,2,3,2,1,110,-500]\n",
    "def vitrimin(L):\n",
    "    vitri=0\n",
    "    for i in range (len(L)):\n",
    "        if L[vitri]> L[i]:\n",
    "            vitri = i \n",
    "    return vitri\n",
    "def ham_sap_xep(L):\n",
    "    L2=[]\n",
    "    for i in range(len(L)):\n",
    "        L2.append(L[vitrimin(L)])\n",
    "        L.pop(vitrimin(L))\n",
    "    return L2\n",
    "def timgiatriX(L):\n",
    "    L3 = ham_sap_xep(L)\n",
    "    if abs(L3[0]) > abs(L3[len(L3)-1]):\n",
    "        return L3[0], -1*L3[0]\n",
    "    return -1*L3[len(L3)-1], L3[len(L3)-1]\n",
    "print (timgiatriX(L))"
   ]
  },
  {
   "cell_type": "code",
   "execution_count": 9,
   "id": "b64519fe",
   "metadata": {},
   "outputs": [
    {
     "data": {
      "text/plain": [
       "500"
      ]
     },
     "execution_count": 9,
     "metadata": {},
     "output_type": "execute_result"
    }
   ],
   "source": [
    "L = [1,2,3,2,1,110,-500]\n",
    "def timx(L):\n",
    "    Mi = min(L)\n",
    "    Ma = max(L)\n",
    "    if abs(Mi) > abs(Ma):\n",
    "        return abs(Mi)\n",
    "    return abs(Ma)\n",
    "timx(L)"
   ]
  },
  {
   "cell_type": "code",
   "execution_count": 15,
   "id": "b3305704",
   "metadata": {
    "scrolled": false
   },
   "outputs": [
    {
     "name": "stdout",
     "output_type": "stream",
     "text": [
      "0\n",
      "1\n",
      "2\n",
      "3\n"
     ]
    },
    {
     "ename": "IndexError",
     "evalue": "list index out of range",
     "output_type": "error",
     "traceback": [
      "\u001b[1;31m---------------------------------------------------------------------------\u001b[0m",
      "\u001b[1;31mIndexError\u001b[0m                                Traceback (most recent call last)",
      "\u001b[1;32m~\\AppData\\Local\\Temp/ipykernel_5568/3865707661.py\u001b[0m in \u001b[0;36m<module>\u001b[1;34m\u001b[0m\n\u001b[0;32m      2\u001b[0m \u001b[1;32mfor\u001b[0m \u001b[0mi\u001b[0m \u001b[1;32min\u001b[0m \u001b[0mrange\u001b[0m\u001b[1;33m(\u001b[0m\u001b[0mlen\u001b[0m\u001b[1;33m(\u001b[0m\u001b[0mL\u001b[0m\u001b[1;33m)\u001b[0m\u001b[1;33m)\u001b[0m\u001b[1;33m:\u001b[0m \u001b[1;31m### range(len(L)) là [0,1,2,3]\u001b[0m\u001b[1;33m\u001b[0m\u001b[1;33m\u001b[0m\u001b[0m\n\u001b[0;32m      3\u001b[0m     \u001b[0mprint\u001b[0m\u001b[1;33m(\u001b[0m\u001b[0mi\u001b[0m\u001b[1;33m)\u001b[0m\u001b[1;33m\u001b[0m\u001b[1;33m\u001b[0m\u001b[0m\n\u001b[1;32m----> 4\u001b[1;33m     \u001b[1;32mif\u001b[0m \u001b[0mL\u001b[0m\u001b[1;33m[\u001b[0m\u001b[0mi\u001b[0m\u001b[1;33m]\u001b[0m \u001b[1;33m==\u001b[0m \u001b[1;36m5\u001b[0m\u001b[1;33m:\u001b[0m\u001b[1;33m\u001b[0m\u001b[1;33m\u001b[0m\u001b[0m\n\u001b[0m\u001b[0;32m      5\u001b[0m         \u001b[0mL\u001b[0m\u001b[1;33m.\u001b[0m\u001b[0mremove\u001b[0m\u001b[1;33m(\u001b[0m\u001b[0mL\u001b[0m\u001b[1;33m[\u001b[0m\u001b[0mi\u001b[0m\u001b[1;33m]\u001b[0m\u001b[1;33m)\u001b[0m\u001b[1;33m\u001b[0m\u001b[1;33m\u001b[0m\u001b[0m\n\u001b[0;32m      6\u001b[0m \u001b[1;31m#print(L)\u001b[0m\u001b[1;33m\u001b[0m\u001b[1;33m\u001b[0m\u001b[0m\n",
      "\u001b[1;31mIndexError\u001b[0m: list index out of range"
     ]
    }
   ],
   "source": [
    "L = [1,5,8,7]\n",
    "for i in range(len(L)): ### range(len(L)) là [0,1,2,3] ~~> range(a) sẽ giúp tạo tập [0,1,2,3,...a-1]\n",
    "    print(i)\n",
    "    if L[i] == 5:\n",
    "        L.remove(L[i])\n",
    "#print(L)"
   ]
  },
  {
   "cell_type": "code",
   "execution_count": 20,
   "id": "6477ff33",
   "metadata": {},
   "outputs": [
    {
     "name": "stdout",
     "output_type": "stream",
     "text": [
      "[0, 1, 2, 3]\n"
     ]
    }
   ],
   "source": [
    "L = [1,5,8,7]\n",
    "print(list(range(len(L)))) ## Giúp mình tạo một tập [0,1,2,..,len(L)-1]"
   ]
  },
  {
   "cell_type": "code",
   "execution_count": 16,
   "id": "d75c1bb7",
   "metadata": {},
   "outputs": [
    {
     "name": "stdout",
     "output_type": "stream",
     "text": [
      "1\n",
      "5\n",
      "7\n"
     ]
    }
   ],
   "source": [
    "L = [1,5,8,7]\n",
    "for i in L: ### Tập lặp lúc này là L\n",
    "    print(i)\n",
    "    if i == 5:\n",
    "        L.remove(i)"
   ]
  },
  {
   "cell_type": "code",
   "execution_count": null,
   "id": "01570d0d",
   "metadata": {},
   "outputs": [],
   "source": [
    "### Khi xài remove hoặc pop là không xài trong duyệt for\n",
    "### Nếu vừa muốn duyệt for vừa muốn xài thì duyệt bằng while"
   ]
  },
  {
   "cell_type": "markdown",
   "id": "98aa10b5",
   "metadata": {},
   "source": [
    "### Bài 5"
   ]
  },
  {
   "cell_type": "markdown",
   "id": "a7fe3092",
   "metadata": {},
   "source": [
    "Viết hàm với giá trị đầu vào là một mảng, Hãy tìm một vị trí trong mảng thỏa hai điền kiện: có hai giá trị lân cận và giá trị tại vị trí đó bằng tích hai giá trị lân cận. Nếu mảng không tồn tại giá trị như vậy thì hàm trả về giá trị - 1"
   ]
  },
  {
   "cell_type": "code",
   "execution_count": 21,
   "id": "9d55cb01",
   "metadata": {},
   "outputs": [
    {
     "data": {
      "text/plain": [
       "8"
      ]
     },
     "execution_count": 21,
     "metadata": {},
     "output_type": "execute_result"
    }
   ],
   "source": [
    "def ham(list):\n",
    "    for i in range(1,(len(list))):\n",
    "        if list[i] == list[i-1]* list[i+1]:\n",
    "            return i\n",
    "    return -1\n",
    "\n",
    "ham([1,3,4563,2,4,6,7,3,6,2,54,65,2,4,2,34])\n"
   ]
  },
  {
   "cell_type": "code",
   "execution_count": null,
   "id": "bb61d775",
   "metadata": {},
   "outputs": [],
   "source": [
    "L=[1,2,3,15,5,6,7,8]\n",
    "def giatrilancan(a):\n",
    "    for i in range(len(a)):\n",
    "        if i!=0 and i!=len(a)-1:\n",
    "            if a[i]==a[i-1]*a[i+1]:\n",
    "                return i\n",
    "    return -1\n",
    "print(giatrilancan(L))"
   ]
  },
  {
   "cell_type": "code",
   "execution_count": 22,
   "id": "f749cd19",
   "metadata": {},
   "outputs": [
    {
     "name": "stdout",
     "output_type": "stream",
     "text": [
      "3\n"
     ]
    }
   ],
   "source": [
    "L=[1,2,3,15,5,6,7,8]\n",
    "def giatrilancan(a):\n",
    "    for i in range(1,len(a)-1):\n",
    "        if a[i]==a[i-1]*a[i+1]:\n",
    "            return i\n",
    "    return -1\n",
    "print(giatrilancan(L))"
   ]
  },
  {
   "cell_type": "markdown",
   "id": "035325d7",
   "metadata": {},
   "source": [
    "### Bài 6"
   ]
  },
  {
   "cell_type": "markdown",
   "id": "e2d35127",
   "metadata": {},
   "source": [
    "Viết hàm có giá trị đầu vào là một mảng. Hãy tìm giá trị đầu tiên trong mảng một chiều các số nguyên có chữ số đầu tiên là chữ số lẻ. Nếu trong mảng không tồn tại giá trị như vậy thì hàm sẽ trả về giá trị 0."
   ]
  },
  {
   "cell_type": "code",
   "execution_count": 23,
   "id": "b8a8b8a2",
   "metadata": {},
   "outputs": [
    {
     "name": "stdout",
     "output_type": "stream",
     "text": [
      "Giá trị i: 13\n"
     ]
    }
   ],
   "source": [
    "M = [23,13,2,6,3,9,3]\n",
    "def timgiatrii(M):\n",
    "    for i in M:\n",
    "        chuoi = str(i)\n",
    "        if i < 0:\n",
    "            i = abs(i)\n",
    "        if (int(chuoi[0])%2!=0):\n",
    "            return i\n",
    "    return 0\n",
    "print(\"Giá trị i:\",timgiatrii(M))"
   ]
  },
  {
   "cell_type": "code",
   "execution_count": 36,
   "id": "a803670d",
   "metadata": {},
   "outputs": [
    {
     "name": "stdout",
     "output_type": "stream",
     "text": [
      "Giá trị i: 13\n"
     ]
    }
   ],
   "source": [
    "def xacdinhdkbai(a):\n",
    "    while a != 0:\n",
    "        chuso = a%10\n",
    "        a //= 10\n",
    "    if chuso % 2 != 0:\n",
    "        return True\n",
    "    return False\n",
    "\n",
    "def timgiatrii(M):\n",
    "    for i in M:\n",
    "        if xacdinhdkbai(i):\n",
    "            return i\n",
    "    return 0\n",
    "print(\"Giá trị i:\",timgiatrii(M))"
   ]
  },
  {
   "cell_type": "markdown",
   "id": "da270d1a",
   "metadata": {},
   "source": [
    "### Bài 7"
   ]
  },
  {
   "cell_type": "markdown",
   "id": "079fdafe",
   "metadata": {},
   "source": [
    "Viết hàm có giá trị đầu vào là một mảng. Hãy tìm giá trị đầu tiên trong mảng có dạng 2^k. Nếu mảng không tồn tại giá trị dạng 2^k thì hàm sẽ trả về giá trị 0."
   ]
  },
  {
   "cell_type": "code",
   "execution_count": 42,
   "id": "f9311f33",
   "metadata": {},
   "outputs": [
    {
     "data": {
      "text/plain": [
       "0.25"
      ]
     },
     "execution_count": 42,
     "metadata": {},
     "output_type": "execute_result"
    }
   ],
   "source": [
    "### 8 là dạng 2^k vì 8 là 2^3\n",
    "### 16 là dạng 2^k vì 16 là 2^4\n",
    "### 64 là dạng 2^k vì 64 là 2^6\n",
    "def xacdinhdang2muk(a):\n",
    "    if a == 1:\n",
    "        return True\n",
    "    elif a < 1:\n",
    "        a = a ** -1\n",
    "    while a%2 == 0:\n",
    "        a = a/2\n",
    "        if a == 1:\n",
    "            return True\n",
    "    return False\n",
    "\n",
    "def xacdinhdang2muk2(a):\n",
    "    p = 1\n",
    "    for k in range(int(a**0.5)):\n",
    "        p*=2\n",
    "        if a==p:\n",
    "            return True\n",
    "    return False\n",
    "\n",
    "xacdinhdang2muk2(1)\n",
    "L=[1/4,3,4,5,8,16]\n",
    "\n",
    "def main(L):\n",
    "    for i in L:\n",
    "        if xacdinhdang2muk(i):\n",
    "            return i\n",
    "    return 0\n",
    "main(L)"
   ]
  },
  {
   "cell_type": "markdown",
   "id": "80c8ab17",
   "metadata": {},
   "source": [
    "### Bài 8"
   ]
  },
  {
   "cell_type": "markdown",
   "id": "47c3a2e2",
   "metadata": {},
   "source": [
    "Viết hàm có giá trị đầu vào là một mảng. Hãy tìm giá trị thỏa điều kiện toàn chữ số lẻ và là giá trị lớn nhất thỏa điều kiện ấy trong mảng (nếu mảng không có giá trị thỏa điều kiện trên thì hàm trả về giá trị 0)"
   ]
  },
  {
   "cell_type": "code",
   "execution_count": 54,
   "id": "f8740d98",
   "metadata": {},
   "outputs": [
    {
     "data": {
      "text/plain": [
       "13"
      ]
     },
     "execution_count": 54,
     "metadata": {},
     "output_type": "execute_result"
    }
   ],
   "source": [
    "def kiemtratoanchusole(a):\n",
    "    while a != 0:\n",
    "        chuso = a % 10\n",
    "        if chuso % 2 == 0:\n",
    "            return False\n",
    "        a //= 10\n",
    "    return True\n",
    "\n",
    "def main(L):\n",
    "    Ma = None\n",
    "    for i in L:\n",
    "        if kiemtratoanchusole(i):\n",
    "            if Ma == None or Ma < i:\n",
    "                Ma = i\n",
    "    return Ma\n",
    "L=[23,22,13,61,4368,4520]\n",
    "main(L)"
   ]
  },
  {
   "cell_type": "code",
   "execution_count": 1,
   "id": "4bb6f81e",
   "metadata": {},
   "outputs": [
    {
     "name": "stdout",
     "output_type": "stream",
     "text": [
      "None\n"
     ]
    }
   ],
   "source": [
    "M = [3,13,2,6,3,9,3]\n",
    "def timso(i):\n",
    "    a=i\n",
    "    dem=0\n",
    "    while i != 0:\n",
    "        if ((a//10)%2!=0):\n",
    "            dem+=1\n",
    "        i = i//10\n",
    "    if dem == len(str(a)):\n",
    "        return a\n",
    "print(timso(23))\n"
   ]
  },
  {
   "cell_type": "markdown",
   "id": "8a09bf26",
   "metadata": {},
   "source": [
    "### Bài 9"
   ]
  },
  {
   "cell_type": "markdown",
   "id": "09f9a4c6",
   "metadata": {},
   "source": [
    "Trong kỳ thi học sinh giỏi môn Tin học, một học sinh là người đạt giải đặc biệt. Ban tổ chức cho phép học sinh đó chọn các phần thưởng cho mình.\n",
    "\n",
    "Các phần thưởng xếp thành một dãy được đánh số từ 1 đến N (0 ≤ N ≤ 10000), phần thưởng thứ i có giá trị là Ai (1 ≤ Ai ≤ 100).\n",
    "\n",
    "Học sinh được phép chọn các phần thưởng cho mình theo nguyên tắc không chọn 3 phần thưởng liên tiếp nhau trong dãy.\n",
    "\n",
    "Viết chương trình để máy tính hướng dẫn học sinh đó chọn các phần thưởng sao cho tổng giá trị của các phần thưởng nhận được là lớn nhất.\n",
    "\n",
    "Nhập vào N, sau đó nhập n lần các giá trị Ai\n",
    "\n",
    "In ra giá trị lớn nhất học sinh được chọn, và các vị trí mà học sinh cần chọn để đạt được giá trị lớn nhất"
   ]
  },
  {
   "cell_type": "code",
   "execution_count": null,
   "id": "c350a1e9",
   "metadata": {},
   "outputs": [],
   "source": []
  }
 ],
 "metadata": {
  "kernelspec": {
   "display_name": "Python 3 (ipykernel)",
   "language": "python",
   "name": "python3"
  },
  "language_info": {
   "codemirror_mode": {
    "name": "ipython",
    "version": 3
   },
   "file_extension": ".py",
   "mimetype": "text/x-python",
   "name": "python",
   "nbconvert_exporter": "python",
   "pygments_lexer": "ipython3",
   "version": "3.10.1"
  }
 },
 "nbformat": 4,
 "nbformat_minor": 5
}
