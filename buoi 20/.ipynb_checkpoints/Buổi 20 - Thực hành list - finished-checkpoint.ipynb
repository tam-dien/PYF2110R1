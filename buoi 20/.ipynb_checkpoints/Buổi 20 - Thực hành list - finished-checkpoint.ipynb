{
 "cells": [
  {
   "cell_type": "markdown",
   "id": "011431b9",
   "metadata": {},
   "source": [
    "# Thực hành List\n",
    "\n",
    "##### Chú ý: list một dãy số người ta còn gọi là một mảng\n",
    "\n",
    "### Bài 1"
   ]
  },
  {
   "cell_type": "markdown",
   "id": "61a90628",
   "metadata": {},
   "source": [
    "Viết hàm với đầu vào là một mảng, hãy tính và trả về giá trị trung bình của mảng"
   ]
  },
  {
   "cell_type": "code",
   "execution_count": null,
   "id": "bcc197d5",
   "metadata": {},
   "outputs": [],
   "source": []
  },
  {
   "cell_type": "markdown",
   "id": "30d26c1b",
   "metadata": {},
   "source": [
    "### Bài 2"
   ]
  },
  {
   "cell_type": "markdown",
   "id": "674ef26c",
   "metadata": {},
   "source": [
    "Viết hàm với đầu vào là một mảng, hãy tìm và trả về giá trị âm lớn nhất trong mảng"
   ]
  },
  {
   "cell_type": "code",
   "execution_count": null,
   "id": "1a9cb505",
   "metadata": {},
   "outputs": [],
   "source": []
  },
  {
   "cell_type": "markdown",
   "id": "95cfaa74",
   "metadata": {},
   "source": [
    "### Bài 3"
   ]
  },
  {
   "cell_type": "markdown",
   "id": "5361a4b8",
   "metadata": {},
   "source": [
    "Viết hàm với giá trị đầu vào là một mảng, hãy sắp xếp và trả về mảng có độ lớn tăng dần"
   ]
  },
  {
   "cell_type": "code",
   "execution_count": null,
   "id": "91ad4d5d",
   "metadata": {},
   "outputs": [],
   "source": []
  },
  {
   "cell_type": "markdown",
   "id": "025cc0cb",
   "metadata": {},
   "source": [
    "### Bài 4"
   ]
  },
  {
   "cell_type": "markdown",
   "id": "dbf885a9",
   "metadata": {},
   "source": [
    "Viết hàm với giá trị đầu vào là một mảng, tìm x sao cho đoạn [-x,x] chứa tất cả các giá trị có trong mảng"
   ]
  },
  {
   "cell_type": "code",
   "execution_count": null,
   "id": "84606ea2",
   "metadata": {},
   "outputs": [],
   "source": []
  },
  {
   "cell_type": "markdown",
   "id": "98aa10b5",
   "metadata": {},
   "source": [
    "### Bài 5"
   ]
  },
  {
   "cell_type": "markdown",
   "id": "a7fe3092",
   "metadata": {},
   "source": [
    "Viết hàm với giá trị đầu vào là một mảng, Hãy tìm một vị trí trong mảng thỏa hai điền kiện: có hai giá trị lân cận và giá trị tại vị trí đó bằng tích hai giá trị lân cận. Nếu mảng không tồn tại giá trị như vậy thì hàm trả về giá trị - 1"
   ]
  },
  {
   "cell_type": "code",
   "execution_count": null,
   "id": "9d55cb01",
   "metadata": {},
   "outputs": [],
   "source": []
  },
  {
   "cell_type": "markdown",
   "id": "035325d7",
   "metadata": {},
   "source": [
    "### Bài 6"
   ]
  },
  {
   "cell_type": "markdown",
   "id": "e2d35127",
   "metadata": {},
   "source": [
    "Viết hàm có giá trị đầu vào là một mảng. Hãy tìm giá trị đầu tiên trong mảng một chiều các số nguyên có chữ sốđầu tiên là chữ số lẻ. Nếu trong mảng không tồn tại giá trị như vậy thì hàm sẽ trả về giá trị 0."
   ]
  },
  {
   "cell_type": "code",
   "execution_count": null,
   "id": "b8a8b8a2",
   "metadata": {},
   "outputs": [],
   "source": []
  },
  {
   "cell_type": "markdown",
   "id": "da270d1a",
   "metadata": {},
   "source": [
    "### Bài 7"
   ]
  },
  {
   "cell_type": "markdown",
   "id": "079fdafe",
   "metadata": {},
   "source": [
    "Viết hàm có giá trị đầu vào là một mảng. Hãy tìm giá trị đầu tiên trong mảng có dạng 2k. Nếu mảng không tồn tại giá trị dạng 2k thì hàm sẽ trả về giá trị 0."
   ]
  },
  {
   "cell_type": "code",
   "execution_count": null,
   "id": "f9311f33",
   "metadata": {},
   "outputs": [],
   "source": []
  },
  {
   "cell_type": "markdown",
   "id": "80c8ab17",
   "metadata": {},
   "source": [
    "### Bài 8"
   ]
  },
  {
   "cell_type": "markdown",
   "id": "47c3a2e2",
   "metadata": {},
   "source": [
    "Viết hàm có giá trị đầu vào là một mảng. Hãy tìm giá trị thỏa điều kiện toàn chữ số lẻ và là giá trị lớn nhất thỏa điều kiện ấy trong mảng (nếu mảng không có giá trị thỏa điều kiện trên thì hàm trả về giá trị 0)"
   ]
  },
  {
   "cell_type": "code",
   "execution_count": null,
   "id": "f8740d98",
   "metadata": {},
   "outputs": [],
   "source": []
  },
  {
   "cell_type": "markdown",
   "id": "8a09bf26",
   "metadata": {},
   "source": [
    "### Bài 9"
   ]
  },
  {
   "cell_type": "markdown",
   "id": "09f9a4c6",
   "metadata": {},
   "source": [
    "Trong kỳ thi học sinh giỏi môn Tin học, một học sinh là người đạt giải đặc biệt. Ban tổ chức cho phép học sinh đó chọn các phần thưởng cho mình.\n",
    "\n",
    "Các phần thưởng xếp thành một dãy được đánh số từ 1 đến N (0 ≤ N ≤ 10000), phần thưởng thứ i có giá trị là Ai (1 ≤ Ai ≤ 100).\n",
    "\n",
    "Học sinh được phép chọn các phần thưởng cho mình theo nguyên tắc không chọn 3 phần thưởng liên tiếp nhau trong dãy.\n",
    "\n",
    "Viết chương trình để máy tính hướng dẫn học sinh đó chọn các phần thưởng sao cho tổng giá trị của các phần thưởng nhận được là lớn nhất.\n",
    "\n",
    "Nhập vào N, sau đó nhập n lần các giá trị Ai\n",
    "\n",
    "In ra giá trị lớn nhất học sinh được chọn, và các vị trí mà học sinh cần chọn để đạt được giá trị lớn nhất"
   ]
  },
  {
   "cell_type": "code",
   "execution_count": null,
   "id": "c350a1e9",
   "metadata": {},
   "outputs": [],
   "source": [
    "#Chọn các số lớn nhất trong A[], nếu có 3 số lớn nhất liên tiếp chuyển số thứ 3 thành 0\n",
    "#Nhặt các số lớn nhất B[] và vị trí của nó C[]\n",
    "#Bỏ đi các số cạnh 2 số được chọn mà liên tiếp hoặc các số ở giữa 2 số được chọn\n",
    "#Bỏ đi các số lớn nhất trong A[] \n",
    "#Chọn các số lớn nhất tiếp theo A[]\n",
    "#Nhặt các số lớn nhất và vị trí của nó\n",
    "#Bỏ đi các số cạnh 2 số được chọn mà liên tiếp\n",
    "N=int(input('So luong giai thuong la:'))\n",
    "A=[]\n",
    "B=[]\n",
    "C=[]\n",
    "import random\n",
    "for i in range(N):\n",
    "    #Ai=int(input())\n",
    "    #A.append(Ai)\n",
    "    A.append(random.randint(1,100))\n",
    "print('A:',A)\n",
    "D=A.copy()\n",
    "F=A.copy()\n",
    "for j in range (0,len(A)):\n",
    "    maxx=A[0]\n",
    "    # Tìm số lớn nhất trong dãy\n",
    "    for i in range (0,len(A)):\n",
    "        if A[i]>=maxx:\n",
    "            maxx=A[i]\n",
    "    # Xử lý TH đặc biệt 3 số lớn nhất liên tiếp\n",
    "    for i in range (0,len(A)-2):\n",
    "        if A[i]==maxx and A[i+1]==maxx and A[i+2]==maxx:\n",
    "            A[i+2]=0     \n",
    "    #print('A 3 so lon nhat:',A)\n",
    "    \n",
    "        \n",
    "    # Đưa các vị trí maxx vào B và C  \n",
    "    for i in range (0,len(A)):\n",
    "        if A[i]==maxx and A[i]>0:   \n",
    "            A[i]=0\n",
    "            D[i]=-1\n",
    "            #Kiem tra A,D            \n",
    "            #TH đạc biệt đầu cuối\n",
    "            if D[0]==-1 and D[1]==-1:\n",
    "                A[2]=0\n",
    "            if D[len(D)-1]==-1 and D[len(D)-2]==-1:\n",
    "                A[len(D)-3]=0\n",
    "            for k in range (1,len(D)-2):\n",
    "                if D[k]==-1 and D[k+1]==-1:\n",
    "                    A[k+2]=0 \n",
    "                    A[k-1]=0\n",
    "            for k in range (0,len(D)-2):   \n",
    "                if D[k]==-1 and D[k+2]==-1:\n",
    "                    A[k+1]=0\n",
    "            #print('A kiem tra:',A)\n",
    "            #print('D kiem tra:',D)\n",
    "            B.append(maxx)\n",
    "            C.append(i+1)\n",
    "            #A.remove(maxx) \n",
    "    #print('B', B)\n",
    "    #print('C', C)                  \n",
    "def sapxep(l):\n",
    "    for i in range (1,len(l)):\n",
    "        for i in range (1,len(l)):\n",
    "            a=0\n",
    "            if l[i-1]>l[i]:\n",
    "                a=l[i-1]\n",
    "                l[i-1]=l[i]\n",
    "                l[i]=a       \n",
    "    return l\n",
    "#print('A ban dau:',F)\n",
    "#print('D:',D)\n",
    "#print('C:',C)\n",
    "print('B:',B)\n",
    "print('C:', sapxep(C))"
   ]
  }
 ],
 "metadata": {
  "kernelspec": {
   "display_name": "Python 3 (ipykernel)",
   "language": "python",
   "name": "python3"
  },
  "language_info": {
   "codemirror_mode": {
    "name": "ipython",
    "version": 3
   },
   "file_extension": ".py",
   "mimetype": "text/x-python",
   "name": "python",
   "nbconvert_exporter": "python",
   "pygments_lexer": "ipython3",
   "version": "3.10.0"
  }
 },
 "nbformat": 4,
 "nbformat_minor": 5
}
