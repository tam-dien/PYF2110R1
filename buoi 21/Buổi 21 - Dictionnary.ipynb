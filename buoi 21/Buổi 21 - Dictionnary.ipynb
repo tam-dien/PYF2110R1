{
 "cells": [
  {
   "cell_type": "markdown",
   "id": "a20f121d",
   "metadata": {},
   "source": [
    "# Dictionnary\n",
    "\n",
    "Dictionnary là một dạng list đặc biệt, nó khác list ở chỗ không lưu trữ các giá trị theo chỉ số vị trí, thay vào đó Dictionary sẽ lưu trữ các giá trị theo key\n",
    "\n",
    "##### Tài liệu tham khảo: https://www.w3schools.com/python/python_dictionaries.asp\n",
    "\n",
    "### Khai báo một dictionary\n",
    "\n",
    "Cú pháp:\n",
    "\n",
    "`<tên dictionary> = {}`\n",
    "\n",
    "### Dictionary được khai báo bằng hai dấu hoặc nhọn\n",
    "\n",
    "Đây là một dictionary rỗng\n",
    "\n",
    "<b>Ví dụ 1:</b>\n",
    "\n",
    "`a = {}`\n",
    "\n",
    "a là một dictionary rỗng\n",
    "\n",
    "<b>Ví dụ 2:</b>\n",
    "\n",
    "`a = {\"tên\": \"Nguyễn Tâm Điền\", \"tuổi\": 13, \"giới tính\": \"Nam\"}`\n",
    "\n",
    "b là một dictionary có 3 key, mõi key đều có một giá trị riêng biệt\n",
    "\n",
    "Key có thể mang kiểu dữ liệu là chuỗi hoặc số\n",
    "\n",
    "##### Mỗi một key đều phải có giá trị của riêng nó, không thể khai báo key không có giá trị\n",
    "\n",
    "<b>Hãy khai báo một dictionary có 3 phần tử</b>"
   ]
  },
  {
   "cell_type": "code",
   "execution_count": 14,
   "id": "d835f461",
   "metadata": {},
   "outputs": [
    {
     "name": "stdout",
     "output_type": "stream",
     "text": [
      "Nam\n",
      "13\n"
     ]
    }
   ],
   "source": [
    "L = [\"Nguyễn Tâm Điền\",13,\"Nam\"]\n",
    "D = {\"tên\": \"Nguyễn Tâm Điền\", \"tuổi\": 13, \"giới tính\": \"Nam\"}\n",
    "print(L[2])\n",
    "print(D[\"tuổi\"])"
   ]
  },
  {
   "cell_type": "markdown",
   "id": "be1e321c",
   "metadata": {},
   "source": [
    "### Thêm key vào dictionary\n",
    "\n",
    "Cú pháp:\n",
    "\n",
    "`<tên dictionary>[<key>] = <giá trị>`\n",
    "\n",
    "<b>Ví dụ 1:</b>\n",
    "\n",
    "`a = {}\n",
    "a[\"tên\"] = \"NTD\"`\n",
    "\n",
    "a là một dictionary có một phần tử, phần tử đó có key là \"tên\" và giá trị của key đó là \"NTD\"\n",
    "\n",
    "##### Lưu ý, nếu trong trường hợp đã tồn tại key trong dictionary, dùng lệnh trên sẽ thay đổi giá trị key đó (không phải thêm key khác vào)\n",
    "\n",
    "<b>Ví dụ 2:</b>\n",
    "\n",
    "`a = {}\n",
    "a[\"tên\"] = \"NTD\"\n",
    "a[\"tên\"] = \"Nguyễn Tâm Điền\"`\n",
    "\n",
    "a vẫn là một dictionary có một phần tử, phần tử đó có key là \"tên\" và giá trị của key đó là \"Nguyễn Tâm Điền\"\n",
    "\n",
    "<b>Hãy khai báo một dictionary không có phần tử nào, sau đó thêm một phần tử vào dictionary đó</b>"
   ]
  },
  {
   "cell_type": "code",
   "execution_count": 21,
   "id": "7573ebef",
   "metadata": {},
   "outputs": [
    {
     "name": "stdout",
     "output_type": "stream",
     "text": [
      "['Nguyễn Tâm Điền', 13, 'Nam', 'Giáo viên']\n",
      "{'tên': 'NTĐ', 'tuổi': 13, 'giới tính': 'Nam', 'Nghề': 'Giáo viên'}\n"
     ]
    }
   ],
   "source": [
    "L = [\"Nguyễn Tâm Điền\",13,\"Nam\"]\n",
    "L.append(\"Giáo viên\")\n",
    "print(L)\n",
    "D = {\"tên\": \"Nguyễn Tâm Điền\", \"tuổi\": 13, \"giới tính\": \"Nam\"}\n",
    "D[\"Nghề\"] = \"Giáo viên\"\n",
    "D[\"tên\"] = \"NTĐ\"\n",
    "print(D)"
   ]
  },
  {
   "cell_type": "markdown",
   "id": "65c98825",
   "metadata": {},
   "source": [
    "### Truy xuất phần tử trong dictionary\n",
    "\n",
    "Cú pháp:\n",
    "\n",
    "`<tên dictionary>[<key>]`\n",
    "\n",
    "<b>Ví dụ:</b>\n",
    "\n",
    "`a = {\"tên\": \"Nguyễn Tâm Điền\", \"tuổi\": 13, \"giới tính\": \"Nam\"}\n",
    "print(a[\"tên\"])`\n",
    "\n",
    "Màn hình sẽ in: Nguyễn Tâm Điền\n",
    "\n",
    "<b>Hãy khai báo một dictionary rồi in ra màn hình một phần tử bất kỳ trong dictionary đó</b>"
   ]
  },
  {
   "cell_type": "code",
   "execution_count": 26,
   "id": "f6159385",
   "metadata": {},
   "outputs": [
    {
     "name": "stdout",
     "output_type": "stream",
     "text": [
      "Nguyễn Tâm Điền\n",
      "['Nguyễn Tâm Điền', 13, 'Nam']\n"
     ]
    }
   ],
   "source": [
    "print(a[\"tên\"])\n",
    "L = [\"Nguyễn Tâm Điền\",13,\"Nam\"]\n",
    "L1 = L.copy()\n",
    "L.remove(13)\n",
    "print(L1)"
   ]
  },
  {
   "cell_type": "code",
   "execution_count": 29,
   "id": "0a3cfb55",
   "metadata": {},
   "outputs": [
    {
     "name": "stdout",
     "output_type": "stream",
     "text": [
      "{'tên': 'Nguyễn Tâm Điền', 'tuổi': 13, 'giới tính': 'Nam'}\n"
     ]
    }
   ],
   "source": [
    "D = {\"tên\": \"Nguyễn Tâm Điền\", \"tuổi\": 13, \"giới tính\": \"Nam\"}\n",
    "D1 = D.copy()\n",
    "D[\"nghề nghiệp\"] = \"Giáo viên\"\n",
    "print(D1)"
   ]
  },
  {
   "cell_type": "markdown",
   "id": "afa92f87",
   "metadata": {},
   "source": [
    "### Sao chép dictionary\n",
    "\n",
    "##### Việc sao chép dictionary được thực hiện hệt như sao chép list, chúng ta cần phải sử dụng lệnh copy()"
   ]
  },
  {
   "cell_type": "markdown",
   "id": "ef7e800d",
   "metadata": {},
   "source": [
    "### Duyệt dictionary bằng lệnh for\n",
    "\n",
    "Cú pháp:\n",
    "\n",
    "`for <tên biến> in <tên dictionary>:`\n",
    "\n",
    "Biến sẽ có giá trị là từng key trong dictionary\n",
    "\n",
    "<b>Ví dụ:</b>\n",
    "\n",
    "`a = {\"tên\": \"Nguyễn Tâm Điền\", \"tuổi\": 13, \"giới tính\": \"Nam\"}\n",
    "for i in a:\n",
    "    print(i)`\n",
    "    \n",
    "Màn hình sẽ in ra:\n",
    "\n",
    "tên\n",
    "\n",
    "tuổi\n",
    "\n",
    "giới tính\n",
    "\n",
    "<b>Hãy khai báo một dictionary rồi in ra màn hình toàn bộ giá trị trong dictionary đó</b>"
   ]
  },
  {
   "cell_type": "code",
   "execution_count": 30,
   "id": "3bdd1508",
   "metadata": {},
   "outputs": [
    {
     "ename": "KeyError",
     "evalue": "0",
     "output_type": "error",
     "traceback": [
      "\u001b[1;31m---------------------------------------------------------------------------\u001b[0m",
      "\u001b[1;31mKeyError\u001b[0m                                  Traceback (most recent call last)",
      "\u001b[1;32m~\\AppData\\Local\\Temp/ipykernel_4616/1617859308.py\u001b[0m in \u001b[0;36m<module>\u001b[1;34m\u001b[0m\n\u001b[0;32m      1\u001b[0m \u001b[0mD\u001b[0m \u001b[1;33m=\u001b[0m \u001b[1;33m{\u001b[0m\u001b[1;34m\"tên\"\u001b[0m\u001b[1;33m:\u001b[0m \u001b[1;34m\"Nguyễn Tâm Điền\"\u001b[0m\u001b[1;33m,\u001b[0m \u001b[1;34m\"tuổi\"\u001b[0m\u001b[1;33m:\u001b[0m \u001b[1;36m13\u001b[0m\u001b[1;33m,\u001b[0m \u001b[1;34m\"giới tính\"\u001b[0m\u001b[1;33m:\u001b[0m \u001b[1;34m\"Nam\"\u001b[0m\u001b[1;33m}\u001b[0m\u001b[1;33m\u001b[0m\u001b[1;33m\u001b[0m\u001b[0m\n\u001b[0;32m      2\u001b[0m \u001b[1;32mfor\u001b[0m \u001b[0mi\u001b[0m \u001b[1;32min\u001b[0m \u001b[0mrange\u001b[0m\u001b[1;33m(\u001b[0m\u001b[0mlen\u001b[0m\u001b[1;33m(\u001b[0m\u001b[0mD\u001b[0m\u001b[1;33m)\u001b[0m\u001b[1;33m)\u001b[0m\u001b[1;33m:\u001b[0m \u001b[1;31m## Tạo ra một tập lặp (0,1,2)\u001b[0m\u001b[1;33m\u001b[0m\u001b[1;33m\u001b[0m\u001b[0m\n\u001b[1;32m----> 3\u001b[1;33m     \u001b[0mprint\u001b[0m\u001b[1;33m(\u001b[0m\u001b[0mD\u001b[0m\u001b[1;33m[\u001b[0m\u001b[0mi\u001b[0m\u001b[1;33m]\u001b[0m\u001b[1;33m)\u001b[0m\u001b[1;33m\u001b[0m\u001b[1;33m\u001b[0m\u001b[0m\n\u001b[0m",
      "\u001b[1;31mKeyError\u001b[0m: 0"
     ]
    }
   ],
   "source": [
    "D = {\"tên\": \"Nguyễn Tâm Điền\", \"tuổi\": 13, \"giới tính\": \"Nam\"}\n",
    "for i in range(len(D)): ## Tạo ra một tập lặp (0,1,2)\n",
    "    print(D[i])"
   ]
  },
  {
   "cell_type": "code",
   "execution_count": 31,
   "id": "680636a8",
   "metadata": {},
   "outputs": [
    {
     "name": "stdout",
     "output_type": "stream",
     "text": [
      "Nguyễn Tâm Điền\n",
      "13\n",
      "Nam\n"
     ]
    }
   ],
   "source": [
    "L = [\"Nguyễn Tâm Điền\",13,\"Nam\"]\n",
    "for i in L:\n",
    "    print(i)"
   ]
  },
  {
   "cell_type": "code",
   "execution_count": 33,
   "id": "20ec2c1a",
   "metadata": {},
   "outputs": [
    {
     "name": "stdout",
     "output_type": "stream",
     "text": [
      "Nguyễn Tâm Điền\n",
      "13\n",
      "Nam\n"
     ]
    }
   ],
   "source": [
    "D = {\"tên\": \"Nguyễn Tâm Điền\", \"tuổi\": 13, \"giới tính\": \"Nam\"}\n",
    "for i in D:\n",
    "    print(D[i])"
   ]
  },
  {
   "cell_type": "code",
   "execution_count": 50,
   "id": "7db7dff2",
   "metadata": {},
   "outputs": [
    {
     "name": "stdout",
     "output_type": "stream",
     "text": [
      "{'Trước': 1, 'kia': 0}\n"
     ]
    }
   ],
   "source": [
    "D = {}\n",
    "D['Trước'] = 0\n",
    "D[\"kia\"] = 0\n",
    "D['Trước'] += 1\n",
    "print(D)"
   ]
  },
  {
   "cell_type": "markdown",
   "id": "1982f4b1",
   "metadata": {},
   "source": [
    "### Bài tập"
   ]
  },
  {
   "cell_type": "markdown",
   "id": "3060a950",
   "metadata": {},
   "source": [
    "Viết chương trình đếm số lần xuất hiện của một từ trong một văn bản nhất định"
   ]
  },
  {
   "cell_type": "code",
   "execution_count": 4,
   "id": "45de1608",
   "metadata": {},
   "outputs": [
    {
     "name": "stdout",
     "output_type": "stream",
     "text": [
      "----------------------------------------------------\n",
      "----------------------------------------------------\n",
      " Moi ban nhap tu: người\n",
      "2\n"
     ]
    }
   ],
   "source": [
    "chuoi = \"Trước kia 1 buổi chiều, cứ vào lúc chạng vạng mặt người thì Tràng đi làm về. Hắn bước ngật ngưỡng trên con đường khẳng khiu luồn qua cái xóm chợ của những người ngụ cư vào trong bến. Hắn vừa đi vừa tủm tỉm cười, hai con mất nhỏ tí, gà gà đắm vào bóng chiều, hai bên quai hàm bạch ra, rung rung làm cho cái bộ mặt thô kệch của hắn lúc nào cũng nhấp nhính những ý nghĩ gì vừa lí thú vừa dữ tợn. Hắn có tật vừa đi vừa nói. Hắn lảm nhảm than thở những điều hắn nghĩ. Trẻ con trong xóm, cứ thấy cái thân hình to lớn, vập vạp của hắn từ dốc chợ đi xuống là ùa cả ra vây lấy hắn, reo cười váng lên: - A a a... Anh Tràng! Anh Tràng đã về chúng mày ơi! - Anh Tràng ơi bế em mấy... - Anh Tràng ơi đã uống rượu chưa? - Anh Tràng ơi!... Đứa túm đằng trước, đứa túm đằng sau, đứa cù, đứa kéo, đứa lôi chân không cho đi. Tràng chỉ ngửa mặt lên cười hềnh hệch. Cái xóm ngụ cư tồi tàn ấy mỗi chiều lại xôn xao lên được một lúc. Nhưng độ này thì trẻ con không đứa nào buồn ra đón Tràng nữa, chúng nó ngồi ủ rũ dưới những xó đường không buồn nhúc nhích. Trong bóng chiều nhá nhem, Tràng đi từng bước mệt mỏi, chiếc áo nâu tàng vắt sang một bên cánh tay, cái đầu trọc nhẵn chúi về đằng trước. Hình như những lo lắng, chật vật trong một ngày đè xuống cái lưng to rộng như lưng gấu của hắn.\"\n",
    "#print(chuoi)\n",
    "chuoi = chuoi.replace(\".\",\"\")\n",
    "chuoi = chuoi.replace(\",\",\"\")\n",
    "chuoi = chuoi.replace(\":\",\"\")\n",
    "chuoi = chuoi.replace(\"!\",\"\")\n",
    "chuoi = chuoi.replace(\"?\",\"\")\n",
    "chuoi = chuoi.replace(\"-\",\"\")\n",
    "print(\"----------------------------------------------------\")\n",
    "#print(chuoi)\n",
    "listtu = chuoi.split()\n",
    "print(\"----------------------------------------------------\")\n",
    "#print(listtu)\n",
    "\n",
    "Dict = {}\n",
    "\n",
    "for i in listtu:\n",
    "    i = i.lower()\n",
    "    if i not in Dict:\n",
    "        Dict[i] = 0\n",
    "    Dict[i] += 1\n",
    "#print(\"----------------------------------------------------\")\n",
    "#print(Dict)\n",
    "### Nhập vào một từ bất kỳ, trả về số lần nhập từ đó trong văn bản, nếu từ không có trong văn bản thì in ra 0\n",
    "tu = input(\" Moi ban nhap tu: \")\n",
    "if tu in Dict:\n",
    "    print(Dict[tu])\n",
    "else:\n",
    "    print(0)"
   ]
  },
  {
   "cell_type": "markdown",
   "id": "57c6f1e7",
   "metadata": {},
   "source": [
    "Viết chương trình cho phép người dùng quản lý sản phẩm, gồm các chức năng sau: \n",
    "\n",
    "- Hiển thị danh sách sản phẩm\n",
    "- Thêm sản phẩm mới vào danh sách\n",
    "- Sửa tên của sản phẩm trong danh sách\n",
    "- Xoá một sản phẩm khỏi danh sách"
   ]
  },
  {
   "cell_type": "code",
   "execution_count": 2,
   "id": "8541b8c3",
   "metadata": {},
   "outputs": [],
   "source": [
    "D = {\"SP01\":\"Cơm gà\",\"SP02\":\"Cơm sườn\",\"SP03\":\"Cơm trứng\"}"
   ]
  },
  {
   "cell_type": "code",
   "execution_count": 3,
   "id": "027d4288",
   "metadata": {},
   "outputs": [
    {
     "name": "stdout",
     "output_type": "stream",
     "text": [
      "Mời nhập các phím theo các chức năng như sau:\n",
      "H: Hiển thị danh sách sản phẩm\n",
      "T: Thêm sản phẩm mới vào danh sách\n",
      "S: Sửa tên của sản phẩm trong danh sách\n",
      "X: Xoá một sản phẩm khỏi danh sách\n",
      "0: Thoát chương trình\n",
      "Mời nhập chức năng:H\n",
      "--------------\n",
      "\n",
      "SP01 Cơm gà\n",
      "SP02 Cơm sườn\n",
      "SP03 Cơm trứng\n",
      "\n",
      "--------------\n",
      "Mời nhập chức năng:0\n"
     ]
    }
   ],
   "source": [
    "print(\"Mời nhập các phím theo các chức năng như sau:\")\n",
    "print(\"H: Hiển thị danh sách sản phẩm\")\n",
    "print(\"T: Thêm sản phẩm mới vào danh sách\")\n",
    "print(\"S: Sửa tên của sản phẩm trong danh sách\")\n",
    "print(\"X: Xoá một sản phẩm khỏi danh sách\")\n",
    "print(\"0: Thoát chương trình\")\n",
    "a = input(\"Mời nhập chức năng:\")\n",
    "\n",
    "def hienthi():\n",
    "    print(\"--------------\")\n",
    "    print(\"\")\n",
    "    for i in D:\n",
    "        print(i,D[i])\n",
    "    print(\"\")\n",
    "    print(\"--------------\")\n",
    "    \n",
    "def them():\n",
    "    hienthi()\n",
    "    b = input(\"Nhập ID sản phẩm (muốn thoát thì nhập 0):\")\n",
    "    if b != \"0\":\n",
    "        while b in D:\n",
    "            print(\"ID đã tồn tại, vui lòng nhập ID khác\")\n",
    "            b = input(\"Nhập ID sản phẩm (muốn thoát thì nhập O):\")\n",
    "            if b == \"0\":\n",
    "                return\n",
    "    c = input(\"Nhập tên sản phẩm: \")\n",
    "    D[b] = c\n",
    "    \n",
    "def sua():\n",
    "    hienthi()\n",
    "    b = input(\"Nhập ID sản phẩm (muốn thoát thì nhập 0):\")\n",
    "    if b != \"0\":\n",
    "        while b not in D:\n",
    "            print(\"ID không tồn tại, vui lòng nhập ID khác\")\n",
    "            b = input(\"Nhập ID sản phẩm (muốn thoát thì nhập O):\")\n",
    "            if b == \"0\":\n",
    "                return\n",
    "    c = input(\"Nhập tên sản phẩm: \")\n",
    "    D[b] = c\n",
    "    \n",
    "def xoa():\n",
    "    hienthi()\n",
    "    b = input(\"Nhập ID sản phẩm (muốn thoát thì nhập 0):\")\n",
    "    if b != \"0\":\n",
    "        while b not in D:\n",
    "            print(\"ID không tồn tại, vui lòng nhập ID khác\")\n",
    "            b = input(\"Nhập ID sản phẩm (muốn thoát thì nhập O):\")\n",
    "            if b == \"0\":\n",
    "                return\n",
    "    c = input(\"Bạn có chắc muốn xóa sản phẩm không? Nếu có nhập C, không chắc nhập bất kỳ:\")\n",
    "    if c == \"C\":\n",
    "        D.pop(b)\n",
    "        \n",
    "while a != \"0\":\n",
    "    if a == \"H\":\n",
    "        hienthi()\n",
    "    elif a == \"T\":\n",
    "        them()\n",
    "    elif a == \"S\":\n",
    "        sua()\n",
    "    elif a == \"X\":\n",
    "        xoa()\n",
    "    a = input(\"Mời nhập chức năng:\")"
   ]
  },
  {
   "cell_type": "code",
   "execution_count": 10,
   "id": "1f0c6f73",
   "metadata": {},
   "outputs": [],
   "source": [
    "def suasanpham(D):\n",
    "    for i in D:\n",
    "        print(\"Các sản phẩm hiện có:\")\n",
    "        print(i,\":\",D[i],sep=\" \")\n",
    "    print(\"Nếu nhập số 0 sẽ thoát sửa sản phẩm\")\n",
    "    a=input(\"Nhập ID tên sản phẩm bạn muốn sửa:\")\n",
    "    while a not in D:\n",
    "            print(\"ID của sản phẩm muốn sửa không tồn tại yêu cầu chọn cái khác\")\n",
    "            a=input(\"Nhập ID tên sản phẩm bạn muốn sửa:\")\n",
    "\n",
    "    for i in D:\n",
    "        if i==a:\n",
    "            a=input(\"Nhập lại tên ID: \")\n",
    "            b=input(\"Nhập lại tên sản phẩm \")\n",
    "            i=a\n",
    "            D[a]=b\n",
    "            return D\n",
    "    if a==\"0\":\n",
    "        return D"
   ]
  }
 ],
 "metadata": {
  "kernelspec": {
   "display_name": "Python 3 (ipykernel)",
   "language": "python",
   "name": "python3"
  },
  "language_info": {
   "codemirror_mode": {
    "name": "ipython",
    "version": 3
   },
   "file_extension": ".py",
   "mimetype": "text/x-python",
   "name": "python",
   "nbconvert_exporter": "python",
   "pygments_lexer": "ipython3",
   "version": "3.10.1"
  }
 },
 "nbformat": 4,
 "nbformat_minor": 5
}
