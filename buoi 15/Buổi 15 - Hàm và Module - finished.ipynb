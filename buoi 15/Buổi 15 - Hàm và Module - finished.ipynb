{
 "cells": [
  {
   "cell_type": "markdown",
   "id": "73456e5e",
   "metadata": {},
   "source": [
    "# Hàm\n",
    "\n",
    "### Hàm\n",
    "\n",
    "Cú pháp:\n",
    "\n",
    "`def <tên hàm>(<tham số)>:\n",
    "    //Nội dung hàm`\n",
    "\n",
    "Gọi hàm:\n",
    "`<tên hàm>(<giá trị đầu vào>)`\n",
    "\n",
    "Ví dụ:\n",
    "\n",
    "Hãy viết 1 hàm số để tính tổng 2 số đầu vào và in nó ra màn hình"
   ]
  },
  {
   "cell_type": "code",
   "execution_count": 8,
   "id": "af5b9f6d",
   "metadata": {},
   "outputs": [
    {
     "name": "stdout",
     "output_type": "stream",
     "text": [
      "9\n"
     ]
    }
   ],
   "source": [
    "def tinhtong(a,b):\n",
    "    tong = a + b\n",
    "    print(tong)\n",
    "    \n",
    "tinhtong(3,6)"
   ]
  },
  {
   "cell_type": "code",
   "execution_count": 10,
   "id": "0bfcf3ea",
   "metadata": {},
   "outputs": [
    {
     "name": "stdout",
     "output_type": "stream",
     "text": [
      "hello\n",
      "hello\n",
      "hello\n",
      "hello\n",
      "hello\n",
      "hello\n"
     ]
    }
   ],
   "source": [
    "### Viết hàm in 3 lần chữ hello\n",
    "def in3hello():\n",
    "    print(\"hello\")\n",
    "    print(\"hello\")\n",
    "    print(\"hello\")\n",
    "    \n",
    "in3hello()\n",
    "in3hello()"
   ]
  },
  {
   "cell_type": "code",
   "execution_count": 13,
   "id": "e141ad54",
   "metadata": {},
   "outputs": [
    {
     "name": "stdout",
     "output_type": "stream",
     "text": [
      "2\n",
      "None\n"
     ]
    }
   ],
   "source": [
    "def tinhhieu(a,b):\n",
    "    hieu = abs(a - b)\n",
    "    print(hieu)\n",
    "    \n",
    "sokhac = tinhhieu(5,7)\n",
    "print(sokhac)"
   ]
  },
  {
   "cell_type": "markdown",
   "id": "a7c39f47",
   "metadata": {},
   "source": [
    "### Giá trị trả về của hàm\n",
    "\n",
    "# return\n",
    "\n",
    "Cú pháp:\n",
    "\n",
    "`retrun <giá trị trả về`\n",
    "\n",
    "##### Lưu ý: Sau khi thực hiện lệnh return, chương trình sẽ thoát khỏi hàm ngay lập tức (những lệnh sau đó không được thực hiện)\n",
    "\n",
    "Ví dụ:\n",
    "\n",
    "Hãy viết 1 hàm trả về giá trị trung bình của 2 số bất kỳ"
   ]
  },
  {
   "cell_type": "code",
   "execution_count": 19,
   "id": "0b527b95",
   "metadata": {},
   "outputs": [
    {
     "name": "stdout",
     "output_type": "stream",
     "text": [
      "5\n"
     ]
    }
   ],
   "source": [
    "def trituyetdoi(a):\n",
    "    if a < 0:\n",
    "        return a*-1\n",
    "    return a\n",
    "\n",
    "b = trituyetdoi(-5)\n",
    "print(b)"
   ]
  },
  {
   "cell_type": "code",
   "execution_count": 24,
   "id": "148fd992",
   "metadata": {
    "scrolled": true
   },
   "outputs": [
    {
     "name": "stdout",
     "output_type": "stream",
     "text": [
      "Nhập vào số 1:2\n",
      "Nhập vào số 2:4\n",
      "Hiệu chúng là -2\n"
     ]
    }
   ],
   "source": [
    "def tinhhieu(a,b):\n",
    "    return a - b\n",
    "\n",
    "so1 = int(input(\"Nhập vào số 1:\"))\n",
    "so2 = int(input(\"Nhập vào số 2:\"))\n",
    "\n",
    "if (tinhhieu(so1,so2) == -2):\n",
    "    print(\"Hiệu chúng là -2\")\n",
    "else:\n",
    "    print(\"Hiệu không là -2\")"
   ]
  },
  {
   "cell_type": "code",
   "execution_count": 27,
   "id": "6fa4e5da",
   "metadata": {},
   "outputs": [
    {
     "name": "stdout",
     "output_type": "stream",
     "text": [
      "132\n",
      "3\n"
     ]
    }
   ],
   "source": [
    "#Viết hàm tính tích, thương và giai thừa. Tích và thương đưa vào 2 tham số, giai thừa đưa 1\n",
    "b = 3\n",
    "def tich(a,b):\n",
    "    return a*b\n",
    "def thuong(a,b):\n",
    "    return a/b\n",
    "def giaithua(a):\n",
    "    for i in range(a):\n",
    "        b=a*i\n",
    "    return b\n",
    "print(giaithua(12))\n",
    "print(b)"
   ]
  },
  {
   "cell_type": "code",
   "execution_count": 8,
   "id": "c206170f",
   "metadata": {},
   "outputs": [
    {
     "name": "stdout",
     "output_type": "stream",
     "text": [
      "None\n"
     ]
    }
   ],
   "source": [
    "def tengido():\n",
    "    b = 6\n",
    "\n",
    "a = tengido()\n",
    "\n",
    "print(a)"
   ]
  },
  {
   "cell_type": "code",
   "execution_count": 34,
   "id": "2b30f11c",
   "metadata": {},
   "outputs": [
    {
     "name": "stdout",
     "output_type": "stream",
     "text": [
      "52\n"
     ]
    }
   ],
   "source": [
    "def xulychuoi(a):\n",
    "    b = a[:2]\n",
    "    return b\n",
    "c = xulychuoi(\"525487\")\n",
    "print(c)"
   ]
  },
  {
   "cell_type": "code",
   "execution_count": null,
   "id": "7773db22",
   "metadata": {},
   "outputs": [],
   "source": [
    "def tengido(a):\n",
    "    a = 5\n",
    "    return a\n",
    "a = 2\n",
    "tengido(a)\n",
    "print(a)"
   ]
  },
  {
   "cell_type": "markdown",
   "id": "1d7f8db0",
   "metadata": {},
   "source": [
    "### Bài tập"
   ]
  },
  {
   "cell_type": "markdown",
   "id": "75fb488b",
   "metadata": {},
   "source": [
    "Viết hàm kiểm tra số nguyên tố"
   ]
  },
  {
   "cell_type": "code",
   "execution_count": null,
   "id": "63701bd7",
   "metadata": {},
   "outputs": [],
   "source": [
    "def  songuyento(a):\n",
    "    dem=0\n",
    "    for i in range(1,a+1):\n",
    "        if a%i == 0:\n",
    "            dem+=1\n",
    "    if dem <=2:\n",
    "        return print(True)\n",
    "    else:\n",
    "        return print(False)"
   ]
  },
  {
   "cell_type": "code",
   "execution_count": 39,
   "id": "43bee390",
   "metadata": {},
   "outputs": [
    {
     "name": "stdout",
     "output_type": "stream",
     "text": [
      "Đây là số nguyên tố\n"
     ]
    }
   ],
   "source": [
    "def  songuyento(a):\n",
    "    for i in range(1,a+1):\n",
    "        dem=0\n",
    "        if a%i == 0:\n",
    "            dem+=1\n",
    "    if dem>2:\n",
    "        return \"Đây không phải số nguyên tố\"\n",
    "    else:\n",
    "        return \"Đây là số nguyên tố\"\n",
    "print(songuyento(a))"
   ]
  },
  {
   "cell_type": "code",
   "execution_count": null,
   "id": "d2cdd9e8",
   "metadata": {},
   "outputs": [],
   "source": [
    "def checksonguyento(a):\n",
    "    if a >= 2:\n",
    "        b = 1\n",
    "        dem = 0\n",
    "        for i in range(a):\n",
    "            if a % b == 0:\n",
    "                dem = dem + 1\n",
    "            b = b + 1\n",
    "        if dem != 2:\n",
    "            return False\n",
    "        return True\n",
    "    return False\n",
    "print(5,checksonguyento(5))\n",
    "print(10,checksonguyento(10))\n"
   ]
  },
  {
   "cell_type": "code",
   "execution_count": 46,
   "id": "ccaa347c",
   "metadata": {
    "scrolled": false
   },
   "outputs": [
    {
     "name": "stdout",
     "output_type": "stream",
     "text": [
      "Đây không là số nguyến tố\n"
     ]
    }
   ],
   "source": [
    "def songuyento(a):\n",
    "    dem = 0\n",
    "    for i in range(1,a+1):\n",
    "        if (a % i == 0):\n",
    "            dem = dem + 1\n",
    "    if (dem == 2):\n",
    "        return True\n",
    "    return False\n",
    "\n",
    "if (songuyento(4)):\n",
    "    print(\"Đây là số nguyên tố\")\n",
    "else:\n",
    "    print(\"Đây không là số nguyến tố\")"
   ]
  },
  {
   "cell_type": "code",
   "execution_count": 6,
   "id": "e60b4360",
   "metadata": {},
   "outputs": [
    {
     "ename": "OverflowError",
     "evalue": "int too large to convert to float",
     "output_type": "error",
     "traceback": [
      "\u001b[1;31m---------------------------------------------------------------------------\u001b[0m",
      "\u001b[1;31mOverflowError\u001b[0m                             Traceback (most recent call last)",
      "\u001b[1;32m<timed exec>\u001b[0m in \u001b[0;36m<module>\u001b[1;34m\u001b[0m\n",
      "\u001b[1;32m<timed exec>\u001b[0m in \u001b[0;36msonguyento\u001b[1;34m(a)\u001b[0m\n",
      "\u001b[1;31mOverflowError\u001b[0m: int too large to convert to float"
     ]
    }
   ],
   "source": [
    "%%time\n",
    "def songuyento(a):\n",
    "    for i in range(2,int(a**(1/2)) + 1):\n",
    "        if (a % i == 0):\n",
    "            return False\n",
    "    return True\n",
    "\n",
    "a = 924435\n",
    "\n",
    "if (songuyento(5)):\n",
    "    print(\"Đây là số nguyên tố\")\n",
    "else:\n",
    "    print(\"Đây không là số nguyến tố\")"
   ]
  },
  {
   "cell_type": "code",
   "execution_count": 1,
   "id": "2553d187",
   "metadata": {},
   "outputs": [
    {
     "name": "stdout",
     "output_type": "stream",
     "text": [
      "Đây không là số nguyến tố\n",
      "Wall time: 341 ms\n"
     ]
    }
   ],
   "source": [
    "%%time\n",
    "def songuyento(a):\n",
    "    for i in range(2,a):\n",
    "        if (a % i == 0):\n",
    "            return False\n",
    "    return True\n",
    "\n",
    "a = 924435\n",
    "\n",
    "if (songuyento(10**a)):\n",
    "    print(\"Đây là số nguyên tố\")\n",
    "else:\n",
    "    print(\"Đây không là số nguyến tố\")"
   ]
  },
  {
   "cell_type": "markdown",
   "id": "221103cf",
   "metadata": {},
   "source": [
    "Nhập vào 3 điểm toán, lý, hóa\n",
    "\n",
    "Hãy viết hàm in điểm trung bung bình rồi tính điểm trung bình của toán lý, toán hóa, lý hóa và toán lý hóa"
   ]
  },
  {
   "cell_type": "code",
   "execution_count": null,
   "id": "1ba1d8ae",
   "metadata": {},
   "outputs": [],
   "source": [
    "def tinhtrungbinh3mon(a,b,c):\n",
    "    fdklfjdslkfa\n",
    "def tinhtrungbinh2mon(a,b):\n",
    "    fdfklajvjlkasd\n",
    "    \n",
    "tinhtrungbinh2mon(toan,ly)\n",
    "tinhtrungbinh2mon(toan,hoa)\n",
    "tinhtrungbinh2mon(ly,hoa)\n"
   ]
  },
  {
   "cell_type": "markdown",
   "id": "50f43307",
   "metadata": {},
   "source": [
    "Viết hàm đếm số lượng từ của một chuỗi đưa vào"
   ]
  },
  {
   "cell_type": "code",
   "execution_count": null,
   "id": "be785b29",
   "metadata": {},
   "outputs": [],
   "source": []
  },
  {
   "cell_type": "markdown",
   "id": "b4adef40",
   "metadata": {},
   "source": [
    "Viết một hàm vẽ hình tròn, một hàm vẽ hình vuông và một hàm vẽ hình tam giác đều (giá trị đầu vào là a)\n",
    "\n",
    "Tất cả hàm này, bắt đầu từ 1 vị trí, sau khi vẽ ra, con trỏ sẽ tiến tới vị trí tiếp theo, cách vì đầu một khoảng a + 10 theo chiều x từ trái sang"
   ]
  },
  {
   "cell_type": "code",
   "execution_count": null,
   "id": "e405d1d4",
   "metadata": {},
   "outputs": [],
   "source": []
  }
 ],
 "metadata": {
  "kernelspec": {
   "display_name": "Python 3 (ipykernel)",
   "language": "python",
   "name": "python3"
  },
  "language_info": {
   "codemirror_mode": {
    "name": "ipython",
    "version": 3
   },
   "file_extension": ".py",
   "mimetype": "text/x-python",
   "name": "python",
   "nbconvert_exporter": "python",
   "pygments_lexer": "ipython3",
   "version": "3.10.0"
  }
 },
 "nbformat": 4,
 "nbformat_minor": 5
}
