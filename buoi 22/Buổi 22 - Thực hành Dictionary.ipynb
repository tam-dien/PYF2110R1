{
 "cells": [
  {
   "cell_type": "markdown",
   "id": "636d6b20",
   "metadata": {},
   "source": [
    "# Thực hành Dictionary"
   ]
  },
  {
   "cell_type": "markdown",
   "id": "4a1577c4",
   "metadata": {},
   "source": [
    "### Bài 1"
   ]
  },
  {
   "cell_type": "markdown",
   "id": "57583ad7",
   "metadata": {},
   "source": [
    "Cho list a và list b là 2 dãy số bất kỳ\n",
    "\n",
    "Hãy tìm những phần tử trong 2 list trùng nhau và in toàn bộ ra màn hình\n",
    "\n",
    "Ví dụ:\n",
    "\n",
    "a = [2,4,5,7,9]\n",
    "\n",
    "b = [2,5,10,12,45,65]\n",
    "\n",
    "in ra: 2, 5"
   ]
  },
  {
   "cell_type": "markdown",
   "id": "3bf52ad2",
   "metadata": {},
   "source": [
    "#### Khai báo list"
   ]
  },
  {
   "cell_type": "code",
   "execution_count": 3,
   "id": "ff4b8cef",
   "metadata": {},
   "outputs": [
    {
     "name": "stdout",
     "output_type": "stream",
     "text": [
      "2\n",
      "5\n",
      "trắng\n"
     ]
    }
   ],
   "source": [
    "a = [2,4,5,7,9,\"đen\",\"trắng\"]\n",
    "\n",
    "b = [2,5,10,12,45,65,\"trắng\",\"đỏ\"]\n",
    "\n",
    "def check_common_no(a,b):\n",
    "    for i in a:\n",
    "        for j in b:\n",
    "            if i == j:\n",
    "                print(i)\n",
    "            \n",
    "check_common_no(a,b)"
   ]
  },
  {
   "cell_type": "code",
   "execution_count": 4,
   "id": "84e26551",
   "metadata": {},
   "outputs": [
    {
     "name": "stdout",
     "output_type": "stream",
     "text": [
      "2\n",
      "5\n",
      "trắng\n"
     ]
    }
   ],
   "source": [
    "for i in a:\n",
    "    if i in b:\n",
    "        print(i)"
   ]
  },
  {
   "cell_type": "markdown",
   "id": "f7b1767c",
   "metadata": {},
   "source": [
    "#### Code"
   ]
  },
  {
   "cell_type": "code",
   "execution_count": null,
   "id": "8d0bc5c0",
   "metadata": {},
   "outputs": [],
   "source": []
  },
  {
   "cell_type": "markdown",
   "id": "2646ccba",
   "metadata": {},
   "source": [
    "### Bài 2"
   ]
  },
  {
   "cell_type": "markdown",
   "id": "6cc6dc38",
   "metadata": {},
   "source": [
    "Cho một dictonary có các giá trị là các số nguyên\n",
    "\n",
    "Hãy viết hàm tìm key có giá trị lớn nhất"
   ]
  },
  {
   "cell_type": "markdown",
   "id": "7b92f0ce",
   "metadata": {},
   "source": [
    "#### Khai báo dictionary"
   ]
  },
  {
   "cell_type": "code",
   "execution_count": 5,
   "id": "3ec8ec73",
   "metadata": {},
   "outputs": [],
   "source": [
    "a = {\"001\": 12, \"002\": 17, \"003\": 7, \"004\": 8, \"005\": 123, \"006\": 121, \"007\": 77}"
   ]
  },
  {
   "cell_type": "markdown",
   "id": "65018ab5",
   "metadata": {},
   "source": [
    "#### Code"
   ]
  },
  {
   "cell_type": "code",
   "execution_count": 7,
   "id": "e7a165eb",
   "metadata": {},
   "outputs": [
    {
     "name": "stdout",
     "output_type": "stream",
     "text": [
      "005\n"
     ]
    }
   ],
   "source": [
    "a = {\"001\": 12, \"002\": 17, \"003\": 7, \"004\": 8, \"005\": 123, \"006\": 121, \"007\": 77}\n",
    "\n",
    "def tim_key_max(D):\n",
    "    key_max = None\n",
    "    for i in D:\n",
    "        if key_max == None or D[key_max] < D[i]:\n",
    "            key_max = i\n",
    "    return key_max\n",
    "print(tim_key_max(a))\n"
   ]
  },
  {
   "cell_type": "code",
   "execution_count": 6,
   "id": "143a3067",
   "metadata": {},
   "outputs": [
    {
     "ename": "KeyError",
     "evalue": "0",
     "output_type": "error",
     "traceback": [
      "\u001b[1;31m---------------------------------------------------------------------------\u001b[0m",
      "\u001b[1;31mKeyError\u001b[0m                                  Traceback (most recent call last)",
      "\u001b[1;32m~\\AppData\\Local\\Temp/ipykernel_3492/3068493315.py\u001b[0m in \u001b[0;36m<module>\u001b[1;34m\u001b[0m\n\u001b[1;32m----> 1\u001b[1;33m \u001b[0mmaxx\u001b[0m \u001b[1;33m=\u001b[0m \u001b[0ma\u001b[0m\u001b[1;33m[\u001b[0m\u001b[1;36m0\u001b[0m\u001b[1;33m]\u001b[0m\u001b[1;33m\u001b[0m\u001b[1;33m\u001b[0m\u001b[0m\n\u001b[0m",
      "\u001b[1;31mKeyError\u001b[0m: 0"
     ]
    }
   ],
   "source": []
  },
  {
   "cell_type": "markdown",
   "id": "c562bc84",
   "metadata": {},
   "source": [
    "### Bài 3"
   ]
  },
  {
   "cell_type": "markdown",
   "id": "945e8929",
   "metadata": {},
   "source": [
    "Cho một dictonary có các key đều là chuỗi\n",
    "\n",
    "Hãy viết hàm trả về giá trị của key có độ dài chuỗi là lớn nhất"
   ]
  },
  {
   "cell_type": "markdown",
   "id": "1855bc8c",
   "metadata": {},
   "source": [
    "#### Khai báo dictionary"
   ]
  },
  {
   "cell_type": "code",
   "execution_count": null,
   "id": "5ff9a0e5",
   "metadata": {},
   "outputs": [],
   "source": []
  },
  {
   "cell_type": "markdown",
   "id": "21fae59d",
   "metadata": {},
   "source": [
    "#### Code"
   ]
  },
  {
   "cell_type": "code",
   "execution_count": 10,
   "id": "b3c2194d",
   "metadata": {},
   "outputs": [
    {
     "data": {
      "text/plain": [
       "'abcksegdggqfderr'"
      ]
     },
     "execution_count": 10,
     "metadata": {},
     "output_type": "execute_result"
    }
   ],
   "source": [
    "D = {\"Chuỗi 1 abdfd\":\"abckderior\",\"Chuỗi 2 ab\":\"abckdedggerethr\",\"Chuỗi 3sdffdafd\":\"abcksegdggqfderr\"}\n",
    "L = []\n",
    "def chuoidainhat(D):\n",
    "    maxx = 0\n",
    "    for i in D:\n",
    "        if len(i) > maxx:\n",
    "            maxx = len(D[i])\n",
    "            L = i\n",
    "    return D[L]\n",
    "chuoidainhat(D)"
   ]
  },
  {
   "cell_type": "code",
   "execution_count": null,
   "id": "b16deae6",
   "metadata": {},
   "outputs": [],
   "source": [
    "def timgiatri(Dict):\n",
    "    maxx=0\n",
    "    for i in Dict:\n",
    "        if maxx < len(i):\n",
    "            maxx = len(i)\n",
    "            giatri = Dict[i]\n",
    "    return giatri\n",
    "print(timgiatri(Dict))\n"
   ]
  },
  {
   "cell_type": "code",
   "execution_count": 11,
   "id": "d11f2cc0",
   "metadata": {},
   "outputs": [
    {
     "name": "stdout",
     "output_type": "stream",
     "text": [
      "xin chào\n"
     ]
    }
   ],
   "source": [
    "a = \"hello\"\n",
    "D = {\"hello\":\"xin chào\"}\n",
    "print(D[a])"
   ]
  },
  {
   "cell_type": "code",
   "execution_count": 12,
   "id": "a158dece",
   "metadata": {},
   "outputs": [
    {
     "ename": "KeyError",
     "evalue": "None",
     "output_type": "error",
     "traceback": [
      "\u001b[1;31m---------------------------------------------------------------------------\u001b[0m",
      "\u001b[1;31mKeyError\u001b[0m                                  Traceback (most recent call last)",
      "\u001b[1;32m~\\AppData\\Local\\Temp/ipykernel_3492/2062533745.py\u001b[0m in \u001b[0;36m<module>\u001b[1;34m\u001b[0m\n\u001b[0;32m      8\u001b[0m     \u001b[1;32mreturn\u001b[0m \u001b[0mDict\u001b[0m\u001b[1;33m[\u001b[0m\u001b[0mkey_max\u001b[0m\u001b[1;33m]\u001b[0m\u001b[1;33m\u001b[0m\u001b[1;33m\u001b[0m\u001b[0m\n\u001b[0;32m      9\u001b[0m \u001b[0mD\u001b[0m \u001b[1;33m=\u001b[0m \u001b[1;33m{\u001b[0m\u001b[1;33m}\u001b[0m\u001b[1;33m\u001b[0m\u001b[1;33m\u001b[0m\u001b[0m\n\u001b[1;32m---> 10\u001b[1;33m \u001b[0mprint\u001b[0m\u001b[1;33m(\u001b[0m\u001b[0mtimgiatri\u001b[0m\u001b[1;33m(\u001b[0m\u001b[0mD\u001b[0m\u001b[1;33m)\u001b[0m\u001b[1;33m)\u001b[0m\u001b[1;33m\u001b[0m\u001b[1;33m\u001b[0m\u001b[0m\n\u001b[0m",
      "\u001b[1;32m~\\AppData\\Local\\Temp/ipykernel_3492/2062533745.py\u001b[0m in \u001b[0;36mtimgiatri\u001b[1;34m(Dict)\u001b[0m\n\u001b[0;32m      6\u001b[0m         \u001b[1;32mif\u001b[0m \u001b[0mkey_max\u001b[0m \u001b[1;33m==\u001b[0m \u001b[1;32mNone\u001b[0m \u001b[1;32mor\u001b[0m \u001b[0mlen\u001b[0m\u001b[1;33m(\u001b[0m\u001b[0mkey_max\u001b[0m\u001b[1;33m)\u001b[0m \u001b[1;33m<\u001b[0m \u001b[0mlen\u001b[0m\u001b[1;33m(\u001b[0m\u001b[0mi\u001b[0m\u001b[1;33m)\u001b[0m\u001b[1;33m:\u001b[0m\u001b[1;33m\u001b[0m\u001b[1;33m\u001b[0m\u001b[0m\n\u001b[0;32m      7\u001b[0m             \u001b[0mkey_max\u001b[0m \u001b[1;33m=\u001b[0m \u001b[0mi\u001b[0m\u001b[1;33m\u001b[0m\u001b[1;33m\u001b[0m\u001b[0m\n\u001b[1;32m----> 8\u001b[1;33m     \u001b[1;32mreturn\u001b[0m \u001b[0mDict\u001b[0m\u001b[1;33m[\u001b[0m\u001b[0mkey_max\u001b[0m\u001b[1;33m]\u001b[0m\u001b[1;33m\u001b[0m\u001b[1;33m\u001b[0m\u001b[0m\n\u001b[0m\u001b[0;32m      9\u001b[0m \u001b[0mD\u001b[0m \u001b[1;33m=\u001b[0m \u001b[1;33m{\u001b[0m\u001b[1;33m}\u001b[0m\u001b[1;33m\u001b[0m\u001b[1;33m\u001b[0m\u001b[0m\n\u001b[0;32m     10\u001b[0m \u001b[0mprint\u001b[0m\u001b[1;33m(\u001b[0m\u001b[0mtimgiatri\u001b[0m\u001b[1;33m(\u001b[0m\u001b[0mD\u001b[0m\u001b[1;33m)\u001b[0m\u001b[1;33m)\u001b[0m\u001b[1;33m\u001b[0m\u001b[1;33m\u001b[0m\u001b[0m\n",
      "\u001b[1;31mKeyError\u001b[0m: None"
     ]
    }
   ],
   "source": [
    "D = {\"Chuỗi 1 abdfd\":\"abckderior\",\"Chuỗi 2 ab\":\"abckdedggerethr\",\"Chuỗi 3sdffdafd\":\"abcksegdggqfderr\"}\n",
    "\n",
    "def timgiatri(Dict):\n",
    "    key_max = None\n",
    "    for i in Dict:\n",
    "        if key_max == None or len(key_max) < len(i):\n",
    "            key_max = i\n",
    "    if key_max != None:\n",
    "        return Dict[key_max]\n",
    "    return None\n",
    "D = {}\n",
    "print(timgiatri(D))"
   ]
  },
  {
   "cell_type": "code",
   "execution_count": 14,
   "id": "9e1d8a51",
   "metadata": {},
   "outputs": [
    {
     "name": "stdout",
     "output_type": "stream",
     "text": [
      "moi\n"
     ]
    }
   ],
   "source": [
    "D = {\"ab\":\"xin\",\"b\":\"chao\",\"abc\":\"moi\",\"d\":\"nguoi\"}\n",
    "\n",
    "## D này có các key \"ab\", \"b\", \"c\" ,\"d\"\n",
    "\n",
    "def findmaxlen(D):\n",
    "    lenmax = None\n",
    "    for i in D:\n",
    "        if lenmax == None or len(lenmax) < len(i):\n",
    "            lenmax = i\n",
    "    return D[lenmax]\n",
    "\n",
    "print(findmaxlen(D))\n"
   ]
  },
  {
   "cell_type": "code",
   "execution_count": null,
   "id": "77fc7179",
   "metadata": {},
   "outputs": [],
   "source": [
    "def giatrikeycododailonnhat(a):\n",
    "    dodai=None\n",
    "    for i in a:\n",
    "        if dodai==None or dodai<len(i):\n",
    "            dodai=len(i)\n",
    "            giatri=a[i]\n",
    "    return giatri\n",
    "print(giatrikeycododailonnhat(D))\n"
   ]
  },
  {
   "cell_type": "markdown",
   "id": "205c6ef4",
   "metadata": {},
   "source": [
    "### Bài 4"
   ]
  },
  {
   "cell_type": "markdown",
   "id": "bd7ee674",
   "metadata": {},
   "source": [
    "Cho một list là một tập các chuỗi\n",
    "\n",
    "Hãy mã hóa list trên theo nguyên tắc sau:\n",
    "\n",
    "Mỗi một phần tử, ta mã hóa thành những con số theo thứ tự tăng dần\n",
    "\n",
    "Ví dụ:\n",
    "\n",
    "List = [\"đen\",\"vàng\",\"xanh\",\"vàng\",\"xanh\",\"đỏ\",\"hồng\"]\n",
    "\n",
    "List mã hóa = [0,1,2,1,2,3,4]\n",
    "\n",
    "- \"đen\" mã hóa thành 0\n",
    "- \"vàng\" mã hóa thành 1\n",
    "- \"xanh\" mã hóa thành 2\n",
    "- \"đỏ\" mã hòa thánh 3\n",
    "- \"hồng\" mã hòa thành 4"
   ]
  },
  {
   "cell_type": "markdown",
   "id": "e7ed3048",
   "metadata": {},
   "source": [
    "#### Khai báo"
   ]
  },
  {
   "cell_type": "code",
   "execution_count": null,
   "id": "7573ae07",
   "metadata": {},
   "outputs": [],
   "source": [
    "## List ~~> List mã hóa\n",
    "[\"đen\",\"xanh\",\"trắng\",\"vàng\",\"vàng\",\"xanh\",\"đỏ\",\"hồng\"]"
   ]
  },
  {
   "cell_type": "markdown",
   "id": "9c61e63b",
   "metadata": {},
   "source": [
    "#### Code"
   ]
  },
  {
   "cell_type": "code",
   "execution_count": null,
   "id": "3e3cdf86",
   "metadata": {},
   "outputs": [],
   "source": []
  },
  {
   "cell_type": "markdown",
   "id": "8de66962",
   "metadata": {},
   "source": [
    "### Bài 5"
   ]
  },
  {
   "cell_type": "markdown",
   "id": "1e5c416d",
   "metadata": {},
   "source": [
    "Hãy viết hàm từ một list mã hóa, trả về list gốc của bài 4"
   ]
  },
  {
   "cell_type": "markdown",
   "id": "4881b7b0",
   "metadata": {},
   "source": [
    "#### Khai báo"
   ]
  },
  {
   "cell_type": "code",
   "execution_count": null,
   "id": "602c7b70",
   "metadata": {},
   "outputs": [],
   "source": [
    "### là đưa vào 2 thông tin, một là list đã mã hóa, 2 là tập quy định (0 là gì, 1 là gì, 2 là gì)"
   ]
  },
  {
   "cell_type": "markdown",
   "id": "9a738638",
   "metadata": {},
   "source": [
    "#### Code"
   ]
  },
  {
   "cell_type": "code",
   "execution_count": null,
   "id": "df4fb3a1",
   "metadata": {},
   "outputs": [],
   "source": []
  },
  {
   "cell_type": "markdown",
   "id": "1a982dc5",
   "metadata": {},
   "source": [
    "### Bài 6"
   ]
  },
  {
   "cell_type": "markdown",
   "id": "726f6302",
   "metadata": {},
   "source": [
    "Một khách sạn có N phòng đôi được đánh số từ 1 đến N và M đoàn khách.\n",
    "\n",
    "Với mỗi đoàn khách, ta xếp mỗi cặp khách của đoàn vào một phòng trống theo thứ tự phòng tăng dần.\n",
    "\n",
    "Nếu đoàn khách có số người lẻ thì người khách cuối cùng được xếp vào một phòng trống tiếp theo.\n",
    "\n",
    "Nếu đã hết phòng còn trống thì ta sẽ xếp khách vào những phòng mới chỉ có 1 khách theo thứ tự phòng tăng dần.\n",
    "\n",
    "In ra số khách của mỗi phòng sau khi xếp\n",
    "\n",
    "Giả sử không có 2 đoàn khách nào đến cùng một lúc.\n",
    "\n",
    "#### Ví dụ 1:\n",
    "\n",
    "N = 7, M = 3\n",
    "\n",
    "doankhach = [3,7,3]\n",
    "\n",
    "Ta in: 2, 2, 2, 2, 2, 1, 2\n",
    "\n",
    "#### Ví dụ 2:\n",
    "\n",
    "N = 5, M = 3\n",
    "\n",
    "doankhach = [2,3,2]\n",
    "\n",
    "Ta in: 2, 2, 1, 2, 0"
   ]
  },
  {
   "cell_type": "markdown",
   "id": "e3346872",
   "metadata": {},
   "source": [
    "#### Khai báo"
   ]
  },
  {
   "cell_type": "code",
   "execution_count": null,
   "id": "9f73da45",
   "metadata": {},
   "outputs": [],
   "source": []
  },
  {
   "cell_type": "markdown",
   "id": "8f3d747c",
   "metadata": {},
   "source": [
    "#### Code"
   ]
  },
  {
   "cell_type": "code",
   "execution_count": null,
   "id": "b19e56c9",
   "metadata": {},
   "outputs": [],
   "source": []
  }
 ],
 "metadata": {
  "kernelspec": {
   "display_name": "Python 3 (ipykernel)",
   "language": "python",
   "name": "python3"
  },
  "language_info": {
   "codemirror_mode": {
    "name": "ipython",
    "version": 3
   },
   "file_extension": ".py",
   "mimetype": "text/x-python",
   "name": "python",
   "nbconvert_exporter": "python",
   "pygments_lexer": "ipython3",
   "version": "3.10.1"
  }
 },
 "nbformat": 4,
 "nbformat_minor": 5
}
