{
 "cells": [
  {
   "cell_type": "markdown",
   "id": "636d6b20",
   "metadata": {},
   "source": [
    "# Thực hành Dictionary"
   ]
  },
  {
   "cell_type": "markdown",
   "id": "4a1577c4",
   "metadata": {},
   "source": [
    "### Bài 1"
   ]
  },
  {
   "cell_type": "markdown",
   "id": "57583ad7",
   "metadata": {},
   "source": [
    "Cho list a và list b là 2 dãy số bất kỳ\n",
    "\n",
    "Hãy tìm những phần tử trong 2 list trùng nhau và in toàn bộ ra màn hình\n",
    "\n",
    "Ví dụ:\n",
    "\n",
    "a = [2,4,5,7,9]\n",
    "\n",
    "b = [2,5,10,12,45,65]\n",
    "\n",
    "in ra: 2, 5"
   ]
  },
  {
   "cell_type": "markdown",
   "id": "3bf52ad2",
   "metadata": {},
   "source": [
    "#### Khai báo list"
   ]
  },
  {
   "cell_type": "code",
   "execution_count": 2,
   "id": "ff4b8cef",
   "metadata": {},
   "outputs": [],
   "source": [
    "a = [2,4,5,7,9]\n",
    "\n",
    "b = [2,5,10,12,45,65]"
   ]
  },
  {
   "cell_type": "markdown",
   "id": "f7b1767c",
   "metadata": {},
   "source": [
    "#### Code"
   ]
  },
  {
   "cell_type": "code",
   "execution_count": 3,
   "id": "8d0bc5c0",
   "metadata": {},
   "outputs": [
    {
     "name": "stdout",
     "output_type": "stream",
     "text": [
      "[2, 5]\n"
     ]
    }
   ],
   "source": [
    "c = []\n",
    "for i in a:\n",
    "    for j in b:\n",
    "        if (i == j):\n",
    "            c.append(i)\n",
    "print(c)"
   ]
  },
  {
   "cell_type": "code",
   "execution_count": 4,
   "id": "0f073b05",
   "metadata": {},
   "outputs": [
    {
     "name": "stdout",
     "output_type": "stream",
     "text": [
      "[2, 2, 10, 5]\n"
     ]
    }
   ],
   "source": [
    "a = [2,2,2,10,4,5,7,9]\n",
    "\n",
    "b = [2,2,5,10,12,45,65]\n",
    "c=[]\n",
    "for i in a:\n",
    "    if i in b:\n",
    "        b.remove(i)\n",
    "        c.append(i)\n",
    "print(c)\n"
   ]
  },
  {
   "cell_type": "markdown",
   "id": "2646ccba",
   "metadata": {},
   "source": [
    "### Bài 2"
   ]
  },
  {
   "cell_type": "markdown",
   "id": "6cc6dc38",
   "metadata": {},
   "source": [
    "Cho một dictonary có các giá trị là các số nguyên\n",
    "\n",
    "Hãy viết hàm tìm key có giá trị lớn nhất"
   ]
  },
  {
   "cell_type": "markdown",
   "id": "7b92f0ce",
   "metadata": {},
   "source": [
    "#### Khai báo dictionary"
   ]
  },
  {
   "cell_type": "code",
   "execution_count": 30,
   "id": "3ec8ec73",
   "metadata": {},
   "outputs": [],
   "source": [
    "dictt = {\"black\":-5,\"red\":-3,\"green\":-11}"
   ]
  },
  {
   "cell_type": "markdown",
   "id": "65018ab5",
   "metadata": {},
   "source": [
    "#### Code"
   ]
  },
  {
   "cell_type": "code",
   "execution_count": 31,
   "id": "e7a165eb",
   "metadata": {},
   "outputs": [
    {
     "name": "stdout",
     "output_type": "stream",
     "text": [
      "green\n"
     ]
    }
   ],
   "source": [
    "def tim_key_max(d):\n",
    "    maxx = None\n",
    "    for i in d:\n",
    "        if maxx == None or maxx < d[i]:\n",
    "            maxx = d[i]\n",
    "            key = i\n",
    "    return key\n",
    "print(tim_key_max(dictt))"
   ]
  },
  {
   "cell_type": "markdown",
   "id": "c562bc84",
   "metadata": {},
   "source": [
    "### Bài 3"
   ]
  },
  {
   "cell_type": "markdown",
   "id": "945e8929",
   "metadata": {},
   "source": [
    "Cho một dictonary có các key đều là chuỗi\n",
    "\n",
    "Hãy viết hàm trả về giá trị của key có độ dài chuỗi là lớn nhất"
   ]
  },
  {
   "cell_type": "markdown",
   "id": "1855bc8c",
   "metadata": {},
   "source": [
    "#### Khai báo dictionary"
   ]
  },
  {
   "cell_type": "code",
   "execution_count": 11,
   "id": "5ff9a0e5",
   "metadata": {},
   "outputs": [],
   "source": [
    "dictt = {\"black\":-5,\"red\":-3,\"green\":-11}"
   ]
  },
  {
   "cell_type": "markdown",
   "id": "21fae59d",
   "metadata": {},
   "source": [
    "#### Code"
   ]
  },
  {
   "cell_type": "code",
   "execution_count": 12,
   "id": "b3c2194d",
   "metadata": {},
   "outputs": [
    {
     "name": "stdout",
     "output_type": "stream",
     "text": [
      "-5\n"
     ]
    }
   ],
   "source": [
    "def tim_value_chuoi_max(d):\n",
    "    maxx = None\n",
    "    for i in d:\n",
    "        if maxx == None or maxx < len(i):\n",
    "            maxx = len(i)\n",
    "            value = d[i]\n",
    "    return value\n",
    "print(tim_value_chuoi_max(dictt))"
   ]
  },
  {
   "cell_type": "markdown",
   "id": "205c6ef4",
   "metadata": {},
   "source": [
    "### Bài 4"
   ]
  },
  {
   "cell_type": "markdown",
   "id": "bd7ee674",
   "metadata": {},
   "source": [
    "Cho một list là một tập các chuỗi\n",
    "\n",
    "Hãy mã hóa list trên theo nguyên tắc sau:\n",
    "\n",
    "Mỗi một phần tử, ta mã hóa thành những con số theo thứ tự tăng dần\n",
    "\n",
    "Ví dụ:\n",
    "\n",
    "List = [\"đen\",\"vàng\",\"xanh\",\"vàng\",\"xanh\",\"đỏ\",\"hồng\"]\n",
    "\n",
    "List mã hóa = [0,1,2,1,2,3,4]\n",
    "\n",
    "- \"đen\" mã hóa thành 0\n",
    "- \"vàng\" mã hóa thành 1\n",
    "- \"xanh\" mã hóa thành 2\n",
    "- \"đỏ\" mã hòa thánh 3\n",
    "- \"hồng\" mã hòa thành 4"
   ]
  },
  {
   "cell_type": "markdown",
   "id": "e7ed3048",
   "metadata": {},
   "source": [
    "#### Khai báo"
   ]
  },
  {
   "cell_type": "code",
   "execution_count": 21,
   "id": "7573ae07",
   "metadata": {},
   "outputs": [],
   "source": [
    "L = [\"đen\",\"vàng\",\"xanh\",\"vàng\",\"xanh\",\"đỏ\",\"hồng\"]"
   ]
  },
  {
   "cell_type": "markdown",
   "id": "9c61e63b",
   "metadata": {},
   "source": [
    "#### Code"
   ]
  },
  {
   "cell_type": "code",
   "execution_count": 22,
   "id": "3e3cdf86",
   "metadata": {},
   "outputs": [
    {
     "name": "stdout",
     "output_type": "stream",
     "text": [
      "[0, 1, 2, 1, 2, 3, 4]\n"
     ]
    }
   ],
   "source": [
    "L1 = [\"đen\",\"vàng\",\"xanh\",\"vàng\",\"xanh\",\"đỏ\",\"hồng\"]\n",
    "L2=[]\n",
    "D={}\n",
    "dem=0\n",
    "for i in L1:\n",
    "    if i not in D.values():\n",
    "        D[dem]=i\n",
    "        dem+=1\n",
    "for i in L1:\n",
    "    for a in D:\n",
    "        if i==D[a]:\n",
    "            L2.append(a)\n",
    "print(L2)"
   ]
  },
  {
   "cell_type": "code",
   "execution_count": null,
   "id": "d120a612",
   "metadata": {},
   "outputs": [],
   "source": [
    "def mahoa(a):\n",
    "    D={}\n",
    "    L=[]\n",
    "    dem=0\n",
    "    for i in a:\n",
    "        if i not in D:\n",
    "            D[i]=dem\n",
    "            dem +=1\n",
    "        L.append(D[i])\n",
    "    return L\n",
    "print(mahoa(L))\n"
   ]
  },
  {
   "cell_type": "code",
   "execution_count": null,
   "id": "1df4d2e1",
   "metadata": {},
   "outputs": [],
   "source": [
    "List = [\"đen\",\"vàng\",\"xanh\",\"vàng\",\"xanh\",\"đỏ\",\"hồng\"]\n",
    "Dict = {}\n",
    "Listmahoa=[]\n",
    "dem=0\n",
    "for i in List:\n",
    "    if i not in Dict:\n",
    "        Dict[i]=dem\n",
    "        dem=dem+1\n",
    "    print(Dict[i])"
   ]
  },
  {
   "cell_type": "code",
   "execution_count": 3,
   "id": "8a52df66",
   "metadata": {},
   "outputs": [
    {
     "name": "stdout",
     "output_type": "stream",
     "text": [
      "{'đen': 0, 'vàng': 1, 'xanh': 2, 'đỏ': 3, 'hồng': 4}\n",
      "[0, 1, 2, 1, 2, 3, 4]\n"
     ]
    }
   ],
   "source": [
    "List = [\"đen\",\"vàng\",\"xanh\",\"vàng\",\"xanh\",\"đỏ\",\"hồng\"]\n",
    "Dict = {}\n",
    "Listmahoa=[]\n",
    "dem = 0\n",
    "for i in List:\n",
    "    if i not in Dict:\n",
    "        Dict[i] = dem\n",
    "        dem = dem + 1\n",
    "    Listmahoa.append(Dict[i])\n",
    "print(Dict)\n",
    "print(Listmahoa)"
   ]
  },
  {
   "cell_type": "markdown",
   "id": "8de66962",
   "metadata": {},
   "source": [
    "### Bài 5"
   ]
  },
  {
   "cell_type": "markdown",
   "id": "1e5c416d",
   "metadata": {},
   "source": [
    "Hãy viết hàm từ một list mã hóa, trả về list gốc của bài 4"
   ]
  },
  {
   "cell_type": "markdown",
   "id": "4881b7b0",
   "metadata": {},
   "source": [
    "#### Khai báo"
   ]
  },
  {
   "cell_type": "code",
   "execution_count": 3,
   "id": "602c7b70",
   "metadata": {},
   "outputs": [
    {
     "name": "stdout",
     "output_type": "stream",
     "text": [
      "['đen', 'vàng', 'xanh', 'vàng', 'xanh', 'đỏ', 'hồng']\n"
     ]
    }
   ],
   "source": [
    "L = [0, 1, 2, 1, 2, 3, 4]\n",
    "Dict = {'đen': 0, 'vàng': 1, 'xanh': 2, 'đỏ': 3, 'hồng': 4}\n",
    "\n",
    "def giatrigoc(Dict,Listmahoa):\n",
    "    Listmoi =[]\n",
    "    Listgoc =[]\n",
    "    for i in Dict:\n",
    "        Listmoi.append(i)\n",
    "    for x in Listmahoa:\n",
    "        Listgoc.append(Listmoi[x])\n",
    "    return Listgoc\n",
    "print(giatrigoc(Dict,L))\n",
    "\n"
   ]
  },
  {
   "cell_type": "code",
   "execution_count": 4,
   "id": "a8de0da4",
   "metadata": {},
   "outputs": [
    {
     "name": "stdout",
     "output_type": "stream",
     "text": [
      "(0, [])\n"
     ]
    }
   ],
   "source": [
    "def travelistgoc(a,b):\n",
    "    L=[]\n",
    "    for i in a:\n",
    "        if i in b:\n",
    "            L.append(b[i])\n",
    "    return len(L),L\n",
    "print(travelistgoc(L,Dict))\n"
   ]
  },
  {
   "cell_type": "code",
   "execution_count": 8,
   "id": "e34738de",
   "metadata": {},
   "outputs": [
    {
     "name": "stdout",
     "output_type": "stream",
     "text": [
      "['đen', 'vàng', 'xanh', 'đỏ', 'hồng']\n",
      "['đen', 'vàng', 'xanh', 'vàng', 'xanh', 'đỏ', 'hồng']\n"
     ]
    }
   ],
   "source": [
    "List_ma_hoa= [0,1,2,1,2,3,4]\n",
    "Dict = {'đen': 0, 'vàng': 1, 'xanh': 2, 'đỏ': 3, 'hồng': 4}\n",
    "ListdoituDict = list(Dict.keys()) ## Trả về dạng LIST (LIST không có khái niệm KEY)\n",
    "List_ma_hoa_nguoc = []\n",
    "print(ListdoituDict)\n",
    "for i in List_ma_hoa:\n",
    "    List_ma_hoa_nguoc.append(ListdoituDict[i])\n",
    "print(List_ma_hoa_nguoc)"
   ]
  },
  {
   "cell_type": "code",
   "execution_count": 10,
   "id": "5ef9157c",
   "metadata": {},
   "outputs": [
    {
     "name": "stdout",
     "output_type": "stream",
     "text": [
      "['Xin chào', 'Hello', 'Bonjour']\n"
     ]
    }
   ],
   "source": [
    "Dict = {\"Tiếng Việt\":\"Xin chào\",\"Tiếng Anh\":\"Hello\",\"Tiếng Pháp\":\"Bonjour\"}\n",
    "ngonngu = list(Dict.keys())\n",
    "giatri = list(Dict.values())\n",
    "print(giatri)"
   ]
  },
  {
   "cell_type": "markdown",
   "id": "9a738638",
   "metadata": {},
   "source": [
    "#### Code"
   ]
  },
  {
   "cell_type": "code",
   "execution_count": null,
   "id": "df4fb3a1",
   "metadata": {},
   "outputs": [],
   "source": []
  },
  {
   "cell_type": "markdown",
   "id": "1a982dc5",
   "metadata": {},
   "source": [
    "### Bài 6"
   ]
  },
  {
   "cell_type": "markdown",
   "id": "726f6302",
   "metadata": {},
   "source": [
    "Một khách sạn có N phòng đôi được đánh số từ 1 đến N và M đoàn khách.\n",
    "\n",
    "Với mỗi đoàn khách, ta xếp mỗi cặp khách của đoàn vào một phòng trống theo thứ tự phòng tăng dần.\n",
    "\n",
    "Nếu đoàn khách có số người lẻ thì người khách cuối cùng được xếp vào một phòng trống tiếp theo.\n",
    "\n",
    "Nếu đã hết phòng còn trống thì ta sẽ xếp khách vào những phòng mới chỉ có 1 khách theo thứ tự phòng tăng dần.\n",
    "\n",
    "In ra số khách của mỗi phòng sau khi xếp\n",
    "\n",
    "Giả sử không có 2 đoàn khách nào đến cùng một lúc.\n",
    "\n",
    "#### Ví dụ 1:\n",
    "\n",
    "N = 7, M = 3\n",
    "\n",
    "doankhach = [3,7,3]\n",
    "\n",
    "Ta in: 2, 2, 2, 2, 2, 1, 2\n",
    "\n",
    "#### Ví dụ 2:\n",
    "\n",
    "N = 5, M = 3\n",
    "\n",
    "doankhach = [2,3,2]\n",
    "\n",
    "Ta in: 2, 2, 1, 2, 0"
   ]
  },
  {
   "cell_type": "markdown",
   "id": "e3346872",
   "metadata": {},
   "source": [
    "#### Khai báo"
   ]
  },
  {
   "cell_type": "code",
   "execution_count": 8,
   "id": "9f73da45",
   "metadata": {},
   "outputs": [
    {
     "name": "stdout",
     "output_type": "stream",
     "text": [
      "Không xếp được phòng\n"
     ]
    }
   ],
   "source": []
  },
  {
   "cell_type": "markdown",
   "id": "8f3d747c",
   "metadata": {},
   "source": [
    "#### Code"
   ]
  },
  {
   "cell_type": "code",
   "execution_count": 6,
   "id": "b19e56c9",
   "metadata": {},
   "outputs": [
    {
     "name": "stdout",
     "output_type": "stream",
     "text": [
      "{1: 3, 2: 7, 3: 2, 4: 2, 5: 15, 6: 3, 7: 6}\n",
      "không thể xếp phòng\n",
      "[0, 0, 0, 0, 0, 0, 0, 0, 0, 0, 0, 0, 0, 0, 0]\n"
     ]
    }
   ],
   "source": [
    "# Done!!!\n",
    "N = 7 \n",
    "doan_khach = [3,4,6,1,1]\n",
    "Dict = {}\n",
    "phong = 1\n",
    "for i in doan_khach:\n",
    "    while i != 0 and phong <= N:\n",
    "        if i >= 2:\n",
    "            Dict[phong]=2\n",
    "            i=i-2\n",
    "        else: # i==1\n",
    "            Dict[phong]=1\n",
    "            i=i-1\n",
    "        phong=phong+1  \n",
    "    while i != 0 and phong > N:\n",
    "        if 1 not in Dict.values():\n",
    "            print(\"Khách sạn thiếu phòng\")\n",
    "            break\n",
    "        else: # 1 in Dict\n",
    "            for a in Dict:\n",
    "                if Dict[a]==1:\n",
    "                    Dict[a]=2\n",
    "                    i=i-1\n",
    "print(Dict.values())\n",
    "print(Dict)"
   ]
  },
  {
   "cell_type": "code",
   "execution_count": null,
   "id": "e8c47389",
   "metadata": {},
   "outputs": [],
   "source": [
    "N = 7\n",
    "M = 2\n",
    "doankhach = [3,10]\n",
    "Dict={}\n",
    "demkhach = 0\n",
    "sosanh = 0\n",
    "for i in range(N): ### Key mang giá trị 0, 1, 2, 3\n",
    "    Dict[i]=0\n",
    "def dien(b):\n",
    "    a=b\n",
    "    for i in Dict:\n",
    "        if Dict[i]==0:\n",
    "            if a>=2: \n",
    "                Dict[i] = 2\n",
    "                a=a-2\n",
    "            elif a<2:\n",
    "                Dict[i] = a\n",
    "                a=a-a\n",
    "    return Dict\n",
    "for i in doankhach:\n",
    "    demkhach+=i\n",
    "    dien(i)\n",
    "    List = []\n",
    "    for i in Dict:\n",
    "        List.append(Dict[i])\n",
    "for i in List:\n",
    "    sosanh += i\n",
    "if demkhach != sosanh:\n",
    "    c=demkhach-sosanh\n",
    "    for i in range(len(List)):\n",
    "        if List[i] == 1:\n",
    "            List[i] = 2\n",
    "            c=c-1\n",
    "            if c==0:\n",
    "                break        \n",
    "print(List)"
   ]
  },
  {
   "cell_type": "code",
   "execution_count": null,
   "id": "f62fa2b9",
   "metadata": {},
   "outputs": [],
   "source": [
    "def sokhachmoiphong(N,M,doankhach):\n",
    "    L=[]\n",
    "    tong=0\n",
    "    phongdadung=0\n",
    "    for i in doankhach:\n",
    "        tong+=i\n",
    "    if tong<=2*int(N) :\n",
    "        for i in doankhach: \n",
    "            for j in range(int(i/2)):\n",
    "                if phongdadung<int(N):   \n",
    "                    L.append(2)\n",
    "                    phongdadung +=1\n",
    "                    tong-=2\n",
    "                    print(L) \n",
    "            if i%2!=0 and phongdadung<int(N):\n",
    "                L.append(1)\n",
    "                phongdadung +=1\n",
    "                tong-=1\n",
    "        while tong==0 and phongdadung<int(N):#TH phòng còn thừa\n",
    "            L.append(0)\n",
    "            phongdadung+=1\n",
    "        if phongdadung==int(N) and tong>0:#TH phòng đã hết \n",
    "            for i in range(len(L)):\n",
    "                if L[i]==1 and tong>0:\n",
    "                    L[i]=2\n",
    "                    tong -=1\n",
    "                    \n",
    "                elif tong==0:\n",
    "                    return L\n",
    "        return L\n",
    "    else:\n",
    "        return \"Không thể xếp được vì quá tải không đủ phòng để xếp mong tất cả quý khách sang chỗ khác cho\"\n"
   ]
  },
  {
   "cell_type": "code",
   "execution_count": 16,
   "id": "28899a56",
   "metadata": {},
   "outputs": [
    {
     "name": "stdout",
     "output_type": "stream",
     "text": [
      "[2, 2, 1, 2, 0]\n"
     ]
    }
   ],
   "source": [
    "doankhach = [2,3,2]\n",
    "N = 5\n",
    "phong = [0]*N\n",
    "sothutuphong = 0\n",
    "sothutuphong2 = 0\n",
    "xepphong = True\n",
    "def main():\n",
    "    for i in doankhach:\n",
    "        while i > 0:\n",
    "            if sothutuphong < N:\n",
    "                if i >= 2:\n",
    "                    phong[sothutuphong] = 2\n",
    "                    i -= 2\n",
    "                elif i == 1:\n",
    "                    phong[sothutuphong] = 1\n",
    "                    i -= 1\n",
    "                sothutuphong += 1\n",
    "            else:\n",
    "                if sothutuphong2 < N:\n",
    "                    if phong[sothutuphong2] == 1:\n",
    "                        phong[sothutuphong2] = 2\n",
    "                        i -= 1\n",
    "                    sothutuphong2 += 1\n",
    "                else:\n",
    "                    xepphong = False\n",
    "                    print(\"Không thể sắp xếp phòng vì không đủ phòng\")\n",
    "                    return\n",
    "    if xepphong:\n",
    "        print(phong)\n",
    "main()"
   ]
  }
 ],
 "metadata": {
  "kernelspec": {
   "display_name": "Python 3 (ipykernel)",
   "language": "python",
   "name": "python3"
  },
  "language_info": {
   "codemirror_mode": {
    "name": "ipython",
    "version": 3
   },
   "file_extension": ".py",
   "mimetype": "text/x-python",
   "name": "python",
   "nbconvert_exporter": "python",
   "pygments_lexer": "ipython3",
   "version": "3.10.1"
  }
 },
 "nbformat": 4,
 "nbformat_minor": 5
}
